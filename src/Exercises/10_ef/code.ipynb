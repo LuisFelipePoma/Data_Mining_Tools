{
 "cells": [
  {
   "cell_type": "code",
   "execution_count": null,
   "metadata": {},
   "outputs": [],
   "source": [
    "# Import necessary libraries\n",
    "import pandas as pd\n",
    "import numpy as np\n",
    "# avoid warnings\n",
    "import warnings\n",
    "warnings.filterwarnings('ignore')"
   ]
  },
  {
   "cell_type": "markdown",
   "metadata": {},
   "source": [
    "# Read and Preprocess the data"
   ]
  },
  {
   "cell_type": "code",
   "execution_count": 40,
   "metadata": {},
   "outputs": [],
   "source": [
    "# Load dataset\n",
    "data = pd.read_csv('tested.csv')"
   ]
  },
  {
   "cell_type": "code",
   "execution_count": 42,
   "metadata": {},
   "outputs": [
    {
     "name": "stdout",
     "output_type": "stream",
     "text": [
      "<class 'pandas.core.frame.DataFrame'>\n",
      "RangeIndex: 418 entries, 0 to 417\n",
      "Data columns (total 12 columns):\n",
      " #   Column       Non-Null Count  Dtype  \n",
      "---  ------       --------------  -----  \n",
      " 0   PassengerId  418 non-null    int64  \n",
      " 1   Survived     418 non-null    int64  \n",
      " 2   Pclass       418 non-null    int64  \n",
      " 3   Name         418 non-null    object \n",
      " 4   Sex          418 non-null    object \n",
      " 5   Age          332 non-null    float64\n",
      " 6   SibSp        418 non-null    int64  \n",
      " 7   Parch        418 non-null    int64  \n",
      " 8   Ticket       418 non-null    object \n",
      " 9   Fare         417 non-null    float64\n",
      " 10  Cabin        91 non-null     object \n",
      " 11  Embarked     418 non-null    object \n",
      "dtypes: float64(2), int64(5), object(5)\n",
      "memory usage: 39.3+ KB\n"
     ]
    }
   ],
   "source": [
    "# See info data\n",
    "data.info()"
   ]
  },
  {
   "cell_type": "code",
   "execution_count": 43,
   "metadata": {},
   "outputs": [
    {
     "data": {
      "text/plain": [
       "PassengerId      0\n",
       "Survived         0\n",
       "Pclass           0\n",
       "Name             0\n",
       "Sex              0\n",
       "Age             86\n",
       "SibSp            0\n",
       "Parch            0\n",
       "Ticket           0\n",
       "Fare             1\n",
       "Cabin          327\n",
       "Embarked         0\n",
       "dtype: int64"
      ]
     },
     "execution_count": 43,
     "metadata": {},
     "output_type": "execute_result"
    }
   ],
   "source": [
    "# See null columns\n",
    "data.isnull().sum()"
   ]
  },
  {
   "cell_type": "code",
   "execution_count": 44,
   "metadata": {},
   "outputs": [],
   "source": [
    "# Preprocessing\n",
    "# Handle missing values\n",
    "data['Age'].fillna(data['Age'].median(), inplace=True)\n",
    "data['Fare'].fillna(data['Fare'].median(), inplace=True)\n",
    "\n",
    "# Drop columns irrelevant information\n",
    "data.drop(['Cabin', 'Ticket', 'Name', 'PassengerId'], axis=1, inplace=True)"
   ]
  },
  {
   "cell_type": "code",
   "execution_count": 45,
   "metadata": {},
   "outputs": [],
   "source": [
    "# Encode categorical variables\n",
    "data = pd.get_dummies(data, columns=['Sex', 'Embarked'], drop_first=True)\n",
    "\n",
    "# Define features and target\n",
    "X = data.drop('Survived', axis=1)\n",
    "y = data['Survived']\n",
    "\n",
    "# Split dataset\n",
    "from sklearn.model_selection import train_test_split\n",
    "X_train, X_test, y_train, y_test = train_test_split(X, y, test_size=0.3)"
   ]
  },
  {
   "cell_type": "markdown",
   "metadata": {},
   "source": [
    "# Train the models (Logistic Regresion and Random Forest)"
   ]
  },
  {
   "cell_type": "code",
   "execution_count": 48,
   "metadata": {},
   "outputs": [
    {
     "name": "stdout",
     "output_type": "stream",
     "text": [
      "Accuracy Logistic Regression:  1.0\n",
      "Accuracy Random Forest:  1.0\n"
     ]
    }
   ],
   "source": [
    "from sklearn.linear_model import LogisticRegression\n",
    "from sklearn.ensemble import RandomForestClassifier\n",
    "\n",
    "# Create models\n",
    "lr = LogisticRegression()\n",
    "rf = RandomForestClassifier()\n",
    "\n",
    "# Train models\n",
    "lr.fit(X_train, y_train)\n",
    "rf.fit(X_train, y_train)\n",
    "\n",
    "# Predict\n",
    "y_pred_lr = lr.predict(X_test)\n",
    "y_pred_rf = rf.predict(X_test)\n",
    "\n",
    "# Evaluate models\n",
    "from sklearn.metrics import accuracy_score\n",
    "\n",
    "print(\"Accuracy Logistic Regression: \", accuracy_score(y_test, y_pred_lr))\n",
    "print(\"Accuracy Random Forest: \", accuracy_score(y_test, y_pred_rf))"
   ]
  },
  {
   "cell_type": "markdown",
   "metadata": {},
   "source": [
    "`Interpretacion`:\n",
    "Al entrenar los modelos se obtienen precisiones del 100% en ambos, lo que puede sugerir muchas cosas, entre ellas que la data se muy representativa, o en nuestro caso lo mas probable, que la data sea muy poca, ya que contamos solo con 480 registros. Por ello se realizara la optimizacion de hiperparametros para obtener un resultado optimo."
   ]
  },
  {
   "cell_type": "markdown",
   "metadata": {},
   "source": [
    "# Optimization with Optuna"
   ]
  },
  {
   "cell_type": "markdown",
   "metadata": {},
   "source": [
    "## Optimization for LogisticRegression"
   ]
  },
  {
   "cell_type": "code",
   "execution_count": 72,
   "metadata": {},
   "outputs": [
    {
     "name": "stderr",
     "output_type": "stream",
     "text": [
      "[I 2024-11-26 16:14:28,497] A new study created in memory with name: Logistic Regression\n",
      "[I 2024-11-26 16:14:28,506] Trial 0 finished with value: 1.0 and parameters: {'C': 30.72141975844997, 'solver': 'liblinear', 'penalty': 'l2', 'max_iter': 450}. Best is trial 0 with value: 1.0.\n",
      "[I 2024-11-26 16:14:28,518] Trial 1 finished with value: 0.6507936507936508 and parameters: {'C': 0.0035985544509243806, 'solver': 'lbfgs', 'penalty': 'l2', 'max_iter': 50}. Best is trial 0 with value: 1.0.\n",
      "[I 2024-11-26 16:14:28,552] Trial 2 finished with value: 0.7222222222222222 and parameters: {'C': 0.3274030208169327, 'solver': 'sag', 'penalty': 'l2', 'max_iter': 950}. Best is trial 0 with value: 1.0.\n",
      "[I 2024-11-26 16:14:28,567] Trial 3 finished with value: 1.0 and parameters: {'C': 7.362443597864367, 'solver': 'newton-cg', 'penalty': 'l2', 'max_iter': 550}. Best is trial 0 with value: 1.0.\n",
      "[I 2024-11-26 16:14:28,579] Trial 4 finished with value: 0.6666666666666666 and parameters: {'C': 0.1365468789402259, 'solver': 'sag', 'penalty': 'l2', 'max_iter': 250}. Best is trial 0 with value: 1.0.\n",
      "[I 2024-11-26 16:14:28,596] Trial 5 finished with value: 0.6666666666666666 and parameters: {'C': 0.003467709034272852, 'solver': 'saga', 'penalty': 'l2', 'max_iter': 350}. Best is trial 0 with value: 1.0.\n",
      "[I 2024-11-26 16:14:28,606] Trial 6 finished with value: 0.6507936507936508 and parameters: {'C': 0.0002229486096736599, 'solver': 'saga', 'penalty': 'l2', 'max_iter': 350}. Best is trial 0 with value: 1.0.\n",
      "[I 2024-11-26 16:14:28,627] Trial 7 finished with value: 0.6666666666666666 and parameters: {'C': 1.268202334071471, 'solver': 'saga', 'penalty': 'l2', 'max_iter': 450}. Best is trial 0 with value: 1.0.\n",
      "[I 2024-11-26 16:14:28,634] Trial 8 finished with value: 0.6507936507936508 and parameters: {'C': 8.820910206553525e-05, 'solver': 'liblinear', 'penalty': 'l2', 'max_iter': 450}. Best is trial 0 with value: 1.0.\n",
      "[I 2024-11-26 16:14:28,642] Trial 9 finished with value: 0.6666666666666666 and parameters: {'C': 29.72889082181908, 'solver': 'sag', 'penalty': 'l2', 'max_iter': 50}. Best is trial 0 with value: 1.0.\n",
      "[I 2024-11-26 16:14:28,658] Trial 10 finished with value: 1.0 and parameters: {'C': 91.4630852219377, 'solver': 'liblinear', 'penalty': 'l2', 'max_iter': 750}. Best is trial 0 with value: 1.0.\n",
      "[I 2024-11-26 16:14:28,681] Trial 11 finished with value: 1.0 and parameters: {'C': 4.807387395138078, 'solver': 'newton-cg', 'penalty': 'l2', 'max_iter': 650}. Best is trial 0 with value: 1.0.\n",
      "[I 2024-11-26 16:14:28,703] Trial 12 finished with value: 1.0 and parameters: {'C': 6.959684595722836, 'solver': 'newton-cg', 'penalty': 'l2', 'max_iter': 650}. Best is trial 0 with value: 1.0.\n",
      "[I 2024-11-26 16:14:28,720] Trial 13 finished with value: 1.0 and parameters: {'C': 14.918666087813222, 'solver': 'newton-cholesky', 'penalty': 'l2', 'max_iter': 650}. Best is trial 0 with value: 1.0.\n",
      "[I 2024-11-26 16:14:28,736] Trial 14 finished with value: 0.8888888888888888 and parameters: {'C': 0.027412969798755203, 'solver': 'liblinear', 'penalty': 'l2', 'max_iter': 850}. Best is trial 0 with value: 1.0.\n",
      "[I 2024-11-26 16:14:28,758] Trial 15 finished with value: 1.0 and parameters: {'C': 1.2407046301750644, 'solver': 'newton-cg', 'penalty': 'l2', 'max_iter': 550}. Best is trial 0 with value: 1.0.\n",
      "[I 2024-11-26 16:14:28,774] Trial 16 finished with value: 1.0 and parameters: {'C': 91.93720058226276, 'solver': 'newton-cholesky', 'penalty': 'l2', 'max_iter': 250}. Best is trial 0 with value: 1.0.\n",
      "[I 2024-11-26 16:14:28,809] Trial 17 finished with value: 1.0 and parameters: {'C': 1.4924733649302844, 'solver': 'lbfgs', 'penalty': 'l2', 'max_iter': 550}. Best is trial 0 with value: 1.0.\n",
      "[I 2024-11-26 16:14:28,828] Trial 18 finished with value: 1.0 and parameters: {'C': 0.052207952096469216, 'solver': 'newton-cg', 'penalty': 'l2', 'max_iter': 250}. Best is trial 0 with value: 1.0.\n",
      "[I 2024-11-26 16:14:28,843] Trial 19 finished with value: 0.6904761904761905 and parameters: {'C': 0.008224740283880053, 'solver': 'liblinear', 'penalty': 'l2', 'max_iter': 750}. Best is trial 0 with value: 1.0.\n",
      "[I 2024-11-26 16:14:28,857] Trial 20 finished with value: 1.0 and parameters: {'C': 0.3387380076379103, 'solver': 'liblinear', 'penalty': 'l2', 'max_iter': 350}. Best is trial 0 with value: 1.0.\n",
      "[I 2024-11-26 16:14:28,873] Trial 21 finished with value: 1.0 and parameters: {'C': 89.24029945586821, 'solver': 'liblinear', 'penalty': 'l2', 'max_iter': 750}. Best is trial 0 with value: 1.0.\n",
      "[I 2024-11-26 16:14:28,887] Trial 22 finished with value: 1.0 and parameters: {'C': 23.44238526940063, 'solver': 'liblinear', 'penalty': 'l2', 'max_iter': 750}. Best is trial 0 with value: 1.0.\n",
      "[I 2024-11-26 16:14:28,901] Trial 23 finished with value: 1.0 and parameters: {'C': 4.649266928976806, 'solver': 'liblinear', 'penalty': 'l2', 'max_iter': 950}. Best is trial 0 with value: 1.0.\n",
      "[I 2024-11-26 16:14:28,924] Trial 24 finished with value: 1.0 and parameters: {'C': 79.15339368189917, 'solver': 'newton-cg', 'penalty': 'l2', 'max_iter': 550}. Best is trial 0 with value: 1.0.\n",
      "[I 2024-11-26 16:14:28,939] Trial 25 finished with value: 1.0 and parameters: {'C': 13.504145651724153, 'solver': 'liblinear', 'penalty': 'l2', 'max_iter': 850}. Best is trial 0 with value: 1.0.\n",
      "[I 2024-11-26 16:14:28,955] Trial 26 finished with value: 1.0 and parameters: {'C': 2.8725342275280616, 'solver': 'newton-cholesky', 'penalty': 'l2', 'max_iter': 450}. Best is trial 0 with value: 1.0.\n",
      "[I 2024-11-26 16:14:28,992] Trial 27 finished with value: 1.0 and parameters: {'C': 33.67835096513107, 'solver': 'lbfgs', 'penalty': 'l2', 'max_iter': 650}. Best is trial 0 with value: 1.0.\n",
      "[I 2024-11-26 16:14:29,013] Trial 28 finished with value: 1.0 and parameters: {'C': 0.4025450630255207, 'solver': 'newton-cg', 'penalty': 'l2', 'max_iter': 550}. Best is trial 0 with value: 1.0.\n",
      "[I 2024-11-26 16:14:29,031] Trial 29 finished with value: 0.6507936507936508 and parameters: {'C': 0.0006826253753273594, 'solver': 'lbfgs', 'penalty': 'l2', 'max_iter': 50}. Best is trial 0 with value: 1.0.\n",
      "[I 2024-11-26 16:14:29,048] Trial 30 finished with value: 1.0 and parameters: {'C': 10.803412955527204, 'solver': 'liblinear', 'penalty': 'l2', 'max_iter': 850}. Best is trial 0 with value: 1.0.\n",
      "[I 2024-11-26 16:14:29,070] Trial 31 finished with value: 1.0 and parameters: {'C': 3.642624829825086, 'solver': 'newton-cg', 'penalty': 'l2', 'max_iter': 650}. Best is trial 0 with value: 1.0.\n",
      "[I 2024-11-26 16:14:29,092] Trial 32 finished with value: 1.0 and parameters: {'C': 41.88626350868027, 'solver': 'newton-cg', 'penalty': 'l2', 'max_iter': 750}. Best is trial 0 with value: 1.0.\n",
      "[I 2024-11-26 16:14:29,113] Trial 33 finished with value: 1.0 and parameters: {'C': 0.81624917905819, 'solver': 'newton-cg', 'penalty': 'l2', 'max_iter': 650}. Best is trial 0 with value: 1.0.\n",
      "[I 2024-11-26 16:14:29,145] Trial 34 finished with value: 0.6904761904761905 and parameters: {'C': 6.736270696544651, 'solver': 'sag', 'penalty': 'l2', 'max_iter': 450}. Best is trial 0 with value: 1.0.\n",
      "[I 2024-11-26 16:14:29,167] Trial 35 finished with value: 1.0 and parameters: {'C': 0.10472831117545027, 'solver': 'newton-cg', 'penalty': 'l2', 'max_iter': 550}. Best is trial 0 with value: 1.0.\n",
      "[I 2024-11-26 16:14:29,194] Trial 36 finished with value: 0.6666666666666666 and parameters: {'C': 2.4705350322778767, 'solver': 'saga', 'penalty': 'l2', 'max_iter': 350}. Best is trial 0 with value: 1.0.\n",
      "[I 2024-11-26 16:14:29,237] Trial 37 finished with value: 0.7301587301587301 and parameters: {'C': 46.733662744349175, 'solver': 'sag', 'penalty': 'l2', 'max_iter': 950}. Best is trial 0 with value: 1.0.\n",
      "[I 2024-11-26 16:14:29,257] Trial 38 finished with value: 0.6428571428571429 and parameters: {'C': 2.2184081921666224e-05, 'solver': 'saga', 'penalty': 'l2', 'max_iter': 150}. Best is trial 0 with value: 1.0.\n",
      "[I 2024-11-26 16:14:29,272] Trial 39 finished with value: 1.0 and parameters: {'C': 15.736343741787202, 'solver': 'liblinear', 'penalty': 'l2', 'max_iter': 350}. Best is trial 0 with value: 1.0.\n",
      "[I 2024-11-26 16:14:29,296] Trial 40 finished with value: 1.0 and parameters: {'C': 0.8006031329746272, 'solver': 'newton-cg', 'penalty': 'l2', 'max_iter': 450}. Best is trial 0 with value: 1.0.\n",
      "[I 2024-11-26 16:14:29,319] Trial 41 finished with value: 1.0 and parameters: {'C': 5.865510697129864, 'solver': 'newton-cg', 'penalty': 'l2', 'max_iter': 650}. Best is trial 0 with value: 1.0.\n",
      "[I 2024-11-26 16:14:29,344] Trial 42 finished with value: 1.0 and parameters: {'C': 8.560334645624303, 'solver': 'newton-cg', 'penalty': 'l2', 'max_iter': 650}. Best is trial 0 with value: 1.0.\n",
      "[I 2024-11-26 16:14:29,370] Trial 43 finished with value: 1.0 and parameters: {'C': 26.240941444287124, 'solver': 'newton-cg', 'penalty': 'l2', 'max_iter': 750}. Best is trial 0 with value: 1.0.\n",
      "[I 2024-11-26 16:14:29,389] Trial 44 finished with value: 1.0 and parameters: {'C': 2.0198499986950065, 'solver': 'newton-cholesky', 'penalty': 'l2', 'max_iter': 550}. Best is trial 0 with value: 1.0.\n",
      "[I 2024-11-26 16:14:29,413] Trial 45 finished with value: 1.0 and parameters: {'C': 0.1459079357238493, 'solver': 'newton-cg', 'penalty': 'l2', 'max_iter': 850}. Best is trial 0 with value: 1.0.\n",
      "[I 2024-11-26 16:14:29,431] Trial 46 finished with value: 1.0 and parameters: {'C': 96.3614645839537, 'solver': 'liblinear', 'penalty': 'l2', 'max_iter': 650}. Best is trial 0 with value: 1.0.\n",
      "[I 2024-11-26 16:14:29,462] Trial 47 finished with value: 0.6904761904761905 and parameters: {'C': 15.548189962867172, 'solver': 'sag', 'penalty': 'l2', 'max_iter': 450}. Best is trial 0 with value: 1.0.\n",
      "[I 2024-11-26 16:14:29,500] Trial 48 finished with value: 1.0 and parameters: {'C': 51.495341346452875, 'solver': 'lbfgs', 'penalty': 'l2', 'max_iter': 750}. Best is trial 0 with value: 1.0.\n",
      "[I 2024-11-26 16:14:29,534] Trial 49 finished with value: 0.6666666666666666 and parameters: {'C': 0.015359132773770264, 'solver': 'saga', 'penalty': 'l2', 'max_iter': 550}. Best is trial 0 with value: 1.0.\n",
      "[I 2024-11-26 16:14:29,549] Trial 50 finished with value: 0.6666666666666666 and parameters: {'C': 0.0020290156073432208, 'solver': 'liblinear', 'penalty': 'l2', 'max_iter': 650}. Best is trial 0 with value: 1.0.\n",
      "[I 2024-11-26 16:14:29,568] Trial 51 finished with value: 1.0 and parameters: {'C': 19.801908302076516, 'solver': 'newton-cholesky', 'penalty': 'l2', 'max_iter': 650}. Best is trial 0 with value: 1.0.\n",
      "[I 2024-11-26 16:14:29,584] Trial 52 finished with value: 1.0 and parameters: {'C': 6.63366720038035, 'solver': 'newton-cholesky', 'penalty': 'l2', 'max_iter': 550}. Best is trial 0 with value: 1.0.\n",
      "[I 2024-11-26 16:14:29,600] Trial 53 finished with value: 1.0 and parameters: {'C': 1.157677012867218, 'solver': 'newton-cholesky', 'penalty': 'l2', 'max_iter': 750}. Best is trial 0 with value: 1.0.\n",
      "[I 2024-11-26 16:14:29,618] Trial 54 finished with value: 1.0 and parameters: {'C': 48.77997931666999, 'solver': 'newton-cholesky', 'penalty': 'l2', 'max_iter': 450}. Best is trial 0 with value: 1.0.\n",
      "[I 2024-11-26 16:14:29,640] Trial 55 finished with value: 1.0 and parameters: {'C': 10.019915788705708, 'solver': 'newton-cg', 'penalty': 'l2', 'max_iter': 550}. Best is trial 0 with value: 1.0.\n",
      "[I 2024-11-26 16:14:29,657] Trial 56 finished with value: 1.0 and parameters: {'C': 3.8924840076766496, 'solver': 'liblinear', 'penalty': 'l2', 'max_iter': 650}. Best is trial 0 with value: 1.0.\n",
      "[I 2024-11-26 16:14:29,683] Trial 57 finished with value: 1.0 and parameters: {'C': 19.796258093455755, 'solver': 'newton-cg', 'penalty': 'l2', 'max_iter': 750}. Best is trial 0 with value: 1.0.\n",
      "[I 2024-11-26 16:14:29,701] Trial 58 finished with value: 1.0 and parameters: {'C': 0.5582106892242672, 'solver': 'liblinear', 'penalty': 'l2', 'max_iter': 850}. Best is trial 0 with value: 1.0.\n",
      "[I 2024-11-26 16:14:29,719] Trial 59 finished with value: 1.0 and parameters: {'C': 0.1961746854141465, 'solver': 'newton-cholesky', 'penalty': 'l2', 'max_iter': 650}. Best is trial 0 with value: 1.0.\n",
      "[I 2024-11-26 16:14:29,745] Trial 60 finished with value: 1.0 and parameters: {'C': 1.6986697348167075, 'solver': 'newton-cg', 'penalty': 'l2', 'max_iter': 750}. Best is trial 0 with value: 1.0.\n",
      "[I 2024-11-26 16:14:29,769] Trial 61 finished with value: 1.0 and parameters: {'C': 4.701096383239, 'solver': 'newton-cg', 'penalty': 'l2', 'max_iter': 550}. Best is trial 0 with value: 1.0.\n",
      "[I 2024-11-26 16:14:29,793] Trial 62 finished with value: 1.0 and parameters: {'C': 30.813634086989186, 'solver': 'newton-cg', 'penalty': 'l2', 'max_iter': 550}. Best is trial 0 with value: 1.0.\n",
      "[I 2024-11-26 16:14:29,818] Trial 63 finished with value: 1.0 and parameters: {'C': 9.980917664446519, 'solver': 'newton-cg', 'penalty': 'l2', 'max_iter': 550}. Best is trial 0 with value: 1.0.\n",
      "[I 2024-11-26 16:14:29,854] Trial 64 finished with value: 1.0 and parameters: {'C': 66.96404802979362, 'solver': 'lbfgs', 'penalty': 'l2', 'max_iter': 350}. Best is trial 0 with value: 1.0.\n",
      "[I 2024-11-26 16:14:29,870] Trial 65 finished with value: 1.0 and parameters: {'C': 3.3383783929388042, 'solver': 'liblinear', 'penalty': 'l2', 'max_iter': 450}. Best is trial 0 with value: 1.0.\n",
      "[I 2024-11-26 16:14:29,896] Trial 66 finished with value: 1.0 and parameters: {'C': 30.66409846022846, 'solver': 'newton-cg', 'penalty': 'l2', 'max_iter': 650}. Best is trial 0 with value: 1.0.\n",
      "[I 2024-11-26 16:14:29,911] Trial 67 finished with value: 1.0 and parameters: {'C': 0.06372722745395193, 'solver': 'liblinear', 'penalty': 'l2', 'max_iter': 450}. Best is trial 0 with value: 1.0.\n",
      "[I 2024-11-26 16:14:29,938] Trial 68 finished with value: 1.0 and parameters: {'C': 1.1454548247821836, 'solver': 'newton-cg', 'penalty': 'l2', 'max_iter': 650}. Best is trial 0 with value: 1.0.\n",
      "[I 2024-11-26 16:14:29,979] Trial 69 finished with value: 0.7142857142857143 and parameters: {'C': 14.258326617102199, 'solver': 'sag', 'penalty': 'l2', 'max_iter': 850}. Best is trial 0 with value: 1.0.\n",
      "[I 2024-11-26 16:14:30,000] Trial 70 finished with value: 1.0 and parameters: {'C': 2.5771183402256104, 'solver': 'newton-cg', 'penalty': 'l2', 'max_iter': 550}. Best is trial 0 with value: 1.0.\n",
      "[I 2024-11-26 16:14:30,024] Trial 71 finished with value: 1.0 and parameters: {'C': 92.37113861508018, 'solver': 'newton-cholesky', 'penalty': 'l2', 'max_iter': 250}. Best is trial 0 with value: 1.0.\n",
      "[I 2024-11-26 16:14:30,042] Trial 72 finished with value: 1.0 and parameters: {'C': 39.4359316312477, 'solver': 'newton-cholesky', 'penalty': 'l2', 'max_iter': 150}. Best is trial 0 with value: 1.0.\n",
      "[I 2024-11-26 16:14:30,060] Trial 73 finished with value: 1.0 and parameters: {'C': 64.28250596002461, 'solver': 'newton-cholesky', 'penalty': 'l2', 'max_iter': 150}. Best is trial 0 with value: 1.0.\n",
      "[I 2024-11-26 16:14:30,076] Trial 74 finished with value: 0.6666666666666666 and parameters: {'C': 20.31158229675366, 'solver': 'saga', 'penalty': 'l2', 'max_iter': 50}. Best is trial 0 with value: 1.0.\n",
      "[I 2024-11-26 16:14:30,094] Trial 75 finished with value: 1.0 and parameters: {'C': 7.076021858543083, 'solver': 'newton-cholesky', 'penalty': 'l2', 'max_iter': 350}. Best is trial 0 with value: 1.0.\n",
      "[I 2024-11-26 16:14:30,111] Trial 76 finished with value: 1.0 and parameters: {'C': 11.440353268795693, 'solver': 'liblinear', 'penalty': 'l2', 'max_iter': 250}. Best is trial 0 with value: 1.0.\n",
      "[I 2024-11-26 16:14:30,136] Trial 77 finished with value: 1.0 and parameters: {'C': 33.192852181902076, 'solver': 'newton-cg', 'penalty': 'l2', 'max_iter': 750}. Best is trial 0 with value: 1.0.\n",
      "[I 2024-11-26 16:14:30,153] Trial 78 finished with value: 1.0 and parameters: {'C': 5.251898910151397, 'solver': 'newton-cholesky', 'penalty': 'l2', 'max_iter': 650}. Best is trial 0 with value: 1.0.\n",
      "[I 2024-11-26 16:14:30,194] Trial 79 finished with value: 1.0 and parameters: {'C': 21.706082124507574, 'solver': 'lbfgs', 'penalty': 'l2', 'max_iter': 650}. Best is trial 0 with value: 1.0.\n",
      "[I 2024-11-26 16:14:30,222] Trial 80 finished with value: 1.0 and parameters: {'C': 57.34842870250944, 'solver': 'newton-cg', 'penalty': 'l2', 'max_iter': 550}. Best is trial 0 with value: 1.0.\n",
      "[I 2024-11-26 16:14:30,260] Trial 81 finished with value: 1.0 and parameters: {'C': 1.7576185534109734, 'solver': 'lbfgs', 'penalty': 'l2', 'max_iter': 550}. Best is trial 0 with value: 1.0.\n",
      "[I 2024-11-26 16:14:30,304] Trial 82 finished with value: 1.0 and parameters: {'C': 0.6200078170335531, 'solver': 'lbfgs', 'penalty': 'l2', 'max_iter': 450}. Best is trial 0 with value: 1.0.\n",
      "[I 2024-11-26 16:14:30,340] Trial 83 finished with value: 1.0 and parameters: {'C': 96.43980641809715, 'solver': 'lbfgs', 'penalty': 'l2', 'max_iter': 550}. Best is trial 0 with value: 1.0.\n",
      "[I 2024-11-26 16:14:30,356] Trial 84 finished with value: 1.0 and parameters: {'C': 13.407618005055063, 'solver': 'liblinear', 'penalty': 'l2', 'max_iter': 650}. Best is trial 0 with value: 1.0.\n",
      "[I 2024-11-26 16:14:30,394] Trial 85 finished with value: 0.7142857142857143 and parameters: {'C': 7.24221850505788, 'solver': 'sag', 'penalty': 'l2', 'max_iter': 750}. Best is trial 0 with value: 1.0.\n",
      "[I 2024-11-26 16:14:30,447] Trial 86 finished with value: 1.0 and parameters: {'C': 0.3022777255449448, 'solver': 'lbfgs', 'penalty': 'l2', 'max_iter': 450}. Best is trial 0 with value: 1.0.\n",
      "[I 2024-11-26 16:14:30,505] Trial 87 finished with value: 0.6746031746031746 and parameters: {'C': 3.752375123258149, 'solver': 'saga', 'penalty': 'l2', 'max_iter': 650}. Best is trial 0 with value: 1.0.\n",
      "[I 2024-11-26 16:14:30,529] Trial 88 finished with value: 0.6507936507936508 and parameters: {'C': 0.00015597512628758213, 'solver': 'newton-cg', 'penalty': 'l2', 'max_iter': 550}. Best is trial 0 with value: 1.0.\n",
      "[I 2024-11-26 16:14:30,547] Trial 89 finished with value: 1.0 and parameters: {'C': 1.4293590441653894, 'solver': 'liblinear', 'penalty': 'l2', 'max_iter': 750}. Best is trial 0 with value: 1.0.\n",
      "[I 2024-11-26 16:14:30,566] Trial 90 finished with value: 1.0 and parameters: {'C': 49.61551459122199, 'solver': 'newton-cholesky', 'penalty': 'l2', 'max_iter': 250}. Best is trial 0 with value: 1.0.\n",
      "[I 2024-11-26 16:14:30,588] Trial 91 finished with value: 0.6587301587301587 and parameters: {'C': 0.004550780697231303, 'solver': 'newton-cg', 'penalty': 'l2', 'max_iter': 250}. Best is trial 0 with value: 1.0.\n",
      "[I 2024-11-26 16:14:30,611] Trial 92 finished with value: 1.0 and parameters: {'C': 2.4664569851566105, 'solver': 'newton-cg', 'penalty': 'l2', 'max_iter': 150}. Best is trial 0 with value: 1.0.\n",
      "[I 2024-11-26 16:14:30,633] Trial 93 finished with value: 0.9126984126984127 and parameters: {'C': 0.029668546095059586, 'solver': 'newton-cg', 'penalty': 'l2', 'max_iter': 250}. Best is trial 0 with value: 1.0.\n",
      "[I 2024-11-26 16:14:30,655] Trial 94 finished with value: 1.0 and parameters: {'C': 0.06507416886281894, 'solver': 'newton-cg', 'penalty': 'l2', 'max_iter': 350}. Best is trial 0 with value: 1.0.\n",
      "[I 2024-11-26 16:14:30,676] Trial 95 finished with value: 0.6507936507936508 and parameters: {'C': 0.0012426048631856527, 'solver': 'newton-cg', 'penalty': 'l2', 'max_iter': 650}. Best is trial 0 with value: 1.0.\n",
      "[I 2024-11-26 16:14:30,693] Trial 96 finished with value: 1.0 and parameters: {'C': 0.8866299426925426, 'solver': 'liblinear', 'penalty': 'l2', 'max_iter': 550}. Best is trial 0 with value: 1.0.\n",
      "[I 2024-11-26 16:14:30,720] Trial 97 finished with value: 1.0 and parameters: {'C': 26.537943931945836, 'solver': 'newton-cg', 'penalty': 'l2', 'max_iter': 150}. Best is trial 0 with value: 1.0.\n",
      "[I 2024-11-26 16:14:30,738] Trial 98 finished with value: 0.6825396825396826 and parameters: {'C': 0.010488479748266798, 'solver': 'newton-cholesky', 'penalty': 'l2', 'max_iter': 350}. Best is trial 0 with value: 1.0.\n",
      "[I 2024-11-26 16:14:30,763] Trial 99 finished with value: 1.0 and parameters: {'C': 8.92673231629429, 'solver': 'newton-cg', 'penalty': 'l2', 'max_iter': 450}. Best is trial 0 with value: 1.0.\n",
      "[I 2024-11-26 16:14:30,779] Trial 100 finished with value: 1.0 and parameters: {'C': 0.25582077921587526, 'solver': 'liblinear', 'penalty': 'l2', 'max_iter': 750}. Best is trial 0 with value: 1.0.\n",
      "[I 2024-11-26 16:14:30,796] Trial 101 finished with value: 1.0 and parameters: {'C': 0.3957431095477062, 'solver': 'liblinear', 'penalty': 'l2', 'max_iter': 250}. Best is trial 0 with value: 1.0.\n",
      "[I 2024-11-26 16:14:30,813] Trial 102 finished with value: 0.9920634920634921 and parameters: {'C': 0.047349995310093915, 'solver': 'liblinear', 'penalty': 'l2', 'max_iter': 350}. Best is trial 0 with value: 1.0.\n",
      "[I 2024-11-26 16:14:30,830] Trial 103 finished with value: 1.0 and parameters: {'C': 5.00919214524188, 'solver': 'liblinear', 'penalty': 'l2', 'max_iter': 450}. Best is trial 0 with value: 1.0.\n",
      "[I 2024-11-26 16:14:30,847] Trial 104 finished with value: 1.0 and parameters: {'C': 0.11550733217006877, 'solver': 'liblinear', 'penalty': 'l2', 'max_iter': 950}. Best is trial 0 with value: 1.0.\n",
      "[I 2024-11-26 16:14:30,870] Trial 105 finished with value: 1.0 and parameters: {'C': 2.206713340096175, 'solver': 'newton-cg', 'penalty': 'l2', 'max_iter': 350}. Best is trial 0 with value: 1.0.\n",
      "[I 2024-11-26 16:14:30,903] Trial 106 finished with value: 0.6904761904761905 and parameters: {'C': 15.276791510445966, 'solver': 'sag', 'penalty': 'l2', 'max_iter': 550}. Best is trial 0 with value: 1.0.\n",
      "[I 2024-11-26 16:14:30,920] Trial 107 finished with value: 1.0 and parameters: {'C': 0.20253295822092218, 'solver': 'newton-cholesky', 'penalty': 'l2', 'max_iter': 250}. Best is trial 0 with value: 1.0.\n",
      "[I 2024-11-26 16:14:30,958] Trial 108 finished with value: 1.0 and parameters: {'C': 0.6562758198970845, 'solver': 'lbfgs', 'penalty': 'l2', 'max_iter': 650}. Best is trial 0 with value: 1.0.\n",
      "[I 2024-11-26 16:14:30,984] Trial 109 finished with value: 1.0 and parameters: {'C': 3.2870128373239833, 'solver': 'newton-cg', 'penalty': 'l2', 'max_iter': 450}. Best is trial 0 with value: 1.0.\n",
      "[I 2024-11-26 16:14:31,017] Trial 110 finished with value: 0.6666666666666666 and parameters: {'C': 1.0645252623852952, 'solver': 'saga', 'penalty': 'l2', 'max_iter': 550}. Best is trial 0 with value: 1.0.\n",
      "[I 2024-11-26 16:14:31,034] Trial 111 finished with value: 1.0 and parameters: {'C': 77.39626359595161, 'solver': 'liblinear', 'penalty': 'l2', 'max_iter': 850}. Best is trial 0 with value: 1.0.\n",
      "[I 2024-11-26 16:14:31,052] Trial 112 finished with value: 1.0 and parameters: {'C': 38.28474540045205, 'solver': 'liblinear', 'penalty': 'l2', 'max_iter': 750}. Best is trial 0 with value: 1.0.\n",
      "[I 2024-11-26 16:14:31,069] Trial 113 finished with value: 1.0 and parameters: {'C': 64.78498176165296, 'solver': 'liblinear', 'penalty': 'l2', 'max_iter': 650}. Best is trial 0 with value: 1.0.\n",
      "[I 2024-11-26 16:14:31,086] Trial 114 finished with value: 1.0 and parameters: {'C': 0.45462158544796477, 'solver': 'liblinear', 'penalty': 'l2', 'max_iter': 850}. Best is trial 0 with value: 1.0.\n",
      "[I 2024-11-26 16:14:31,105] Trial 115 finished with value: 1.0 and parameters: {'C': 42.62856940508871, 'solver': 'newton-cholesky', 'penalty': 'l2', 'max_iter': 750}. Best is trial 0 with value: 1.0.\n",
      "[I 2024-11-26 16:14:31,131] Trial 116 finished with value: 1.0 and parameters: {'C': 19.949117777645018, 'solver': 'newton-cg', 'penalty': 'l2', 'max_iter': 650}. Best is trial 0 with value: 1.0.\n",
      "[I 2024-11-26 16:14:31,147] Trial 117 finished with value: 0.6349206349206349 and parameters: {'C': 1.4008743167608468e-05, 'solver': 'liblinear', 'penalty': 'l2', 'max_iter': 550}. Best is trial 0 with value: 1.0.\n",
      "[I 2024-11-26 16:14:31,186] Trial 118 finished with value: 1.0 and parameters: {'C': 26.555288108273153, 'solver': 'lbfgs', 'penalty': 'l2', 'max_iter': 750}. Best is trial 0 with value: 1.0.\n",
      "[I 2024-11-26 16:14:31,208] Trial 119 finished with value: 0.7301587301587301 and parameters: {'C': 0.01674463882173051, 'solver': 'newton-cg', 'penalty': 'l2', 'max_iter': 350}. Best is trial 0 with value: 1.0.\n",
      "[I 2024-11-26 16:14:31,225] Trial 120 finished with value: 1.0 and parameters: {'C': 10.032098461206258, 'solver': 'liblinear', 'penalty': 'l2', 'max_iter': 550}. Best is trial 0 with value: 1.0.\n",
      "[I 2024-11-26 16:14:31,242] Trial 121 finished with value: 1.0 and parameters: {'C': 73.98880116521985, 'solver': 'liblinear', 'penalty': 'l2', 'max_iter': 750}. Best is trial 0 with value: 1.0.\n",
      "[I 2024-11-26 16:14:31,259] Trial 122 finished with value: 1.0 and parameters: {'C': 6.53874716670937, 'solver': 'liblinear', 'penalty': 'l2', 'max_iter': 650}. Best is trial 0 with value: 1.0.\n",
      "[I 2024-11-26 16:14:31,277] Trial 123 finished with value: 1.0 and parameters: {'C': 13.008455113363434, 'solver': 'liblinear', 'penalty': 'l2', 'max_iter': 750}. Best is trial 0 with value: 1.0.\n",
      "[I 2024-11-26 16:14:31,295] Trial 124 finished with value: 1.0 and parameters: {'C': 99.10552868189987, 'solver': 'newton-cholesky', 'penalty': 'l2', 'max_iter': 250}. Best is trial 0 with value: 1.0.\n",
      "[I 2024-11-26 16:14:31,321] Trial 125 finished with value: 1.0 and parameters: {'C': 56.101019947688876, 'solver': 'newton-cg', 'penalty': 'l2', 'max_iter': 850}. Best is trial 0 with value: 1.0.\n",
      "[I 2024-11-26 16:14:31,337] Trial 126 finished with value: 1.0 and parameters: {'C': 35.72839079232528, 'solver': 'liblinear', 'penalty': 'l2', 'max_iter': 750}. Best is trial 0 with value: 1.0.\n",
      "[I 2024-11-26 16:14:31,364] Trial 127 finished with value: 1.0 and parameters: {'C': 4.477489779414862, 'solver': 'newton-cg', 'penalty': 'l2', 'max_iter': 650}. Best is trial 0 with value: 1.0.\n",
      "[I 2024-11-26 16:14:31,407] Trial 128 finished with value: 0.7142857142857143 and parameters: {'C': 19.6721660614889, 'solver': 'sag', 'penalty': 'l2', 'max_iter': 850}. Best is trial 0 with value: 1.0.\n",
      "[I 2024-11-26 16:14:31,444] Trial 129 finished with value: 1.0 and parameters: {'C': 1.3367834197673059, 'solver': 'lbfgs', 'penalty': 'l2', 'max_iter': 450}. Best is trial 0 with value: 1.0.\n",
      "[I 2024-11-26 16:14:31,462] Trial 130 finished with value: 1.0 and parameters: {'C': 27.750975708636986, 'solver': 'newton-cholesky', 'penalty': 'l2', 'max_iter': 650}. Best is trial 0 with value: 1.0.\n",
      "[I 2024-11-26 16:14:31,480] Trial 131 finished with value: 1.0 and parameters: {'C': 7.652656670729942, 'solver': 'liblinear', 'penalty': 'l2', 'max_iter': 950}. Best is trial 0 with value: 1.0.\n",
      "[I 2024-11-26 16:14:31,497] Trial 132 finished with value: 1.0 and parameters: {'C': 2.806768549526525, 'solver': 'liblinear', 'penalty': 'l2', 'max_iter': 950}. Best is trial 0 with value: 1.0.\n",
      "[I 2024-11-26 16:14:31,515] Trial 133 finished with value: 1.0 and parameters: {'C': 5.513055870223511, 'solver': 'liblinear', 'penalty': 'l2', 'max_iter': 550}. Best is trial 0 with value: 1.0.\n",
      "[I 2024-11-26 16:14:31,532] Trial 134 finished with value: 1.0 and parameters: {'C': 1.8801649138326784, 'solver': 'liblinear', 'penalty': 'l2', 'max_iter': 450}. Best is trial 0 with value: 1.0.\n",
      "[I 2024-11-26 16:14:31,557] Trial 135 finished with value: 1.0 and parameters: {'C': 11.529918355255518, 'solver': 'newton-cg', 'penalty': 'l2', 'max_iter': 550}. Best is trial 0 with value: 1.0.\n",
      "[I 2024-11-26 16:14:31,585] Trial 136 finished with value: 0.6666666666666666 and parameters: {'C': 49.246299484329484, 'solver': 'saga', 'penalty': 'l2', 'max_iter': 250}. Best is trial 0 with value: 1.0.\n",
      "[I 2024-11-26 16:14:31,602] Trial 137 finished with value: 1.0 and parameters: {'C': 3.8368126587232467, 'solver': 'liblinear', 'penalty': 'l2', 'max_iter': 650}. Best is trial 0 with value: 1.0.\n",
      "[I 2024-11-26 16:14:31,627] Trial 138 finished with value: 1.0 and parameters: {'C': 15.893396553808929, 'solver': 'newton-cg', 'penalty': 'l2', 'max_iter': 550}. Best is trial 0 with value: 1.0.\n",
      "[I 2024-11-26 16:14:31,644] Trial 139 finished with value: 1.0 and parameters: {'C': 0.8549953188423951, 'solver': 'liblinear', 'penalty': 'l2', 'max_iter': 350}. Best is trial 0 with value: 1.0.\n",
      "[I 2024-11-26 16:14:31,663] Trial 140 finished with value: 1.0 and parameters: {'C': 9.149852697132355, 'solver': 'newton-cholesky', 'penalty': 'l2', 'max_iter': 750}. Best is trial 0 with value: 1.0.\n",
      "[I 2024-11-26 16:14:31,692] Trial 141 finished with value: 1.0 and parameters: {'C': 56.628311122730864, 'solver': 'newton-cg', 'penalty': 'l2', 'max_iter': 550}. Best is trial 0 with value: 1.0.\n",
      "[I 2024-11-26 16:14:31,718] Trial 142 finished with value: 1.0 and parameters: {'C': 99.98352160085152, 'solver': 'newton-cg', 'penalty': 'l2', 'max_iter': 550}. Best is trial 0 with value: 1.0.\n",
      "[I 2024-11-26 16:14:31,756] Trial 143 finished with value: 1.0 and parameters: {'C': 72.4590948546005, 'solver': 'newton-cg', 'penalty': 'l2', 'max_iter': 550}. Best is trial 0 with value: 1.0.\n",
      "[I 2024-11-26 16:14:31,784] Trial 144 finished with value: 1.0 and parameters: {'C': 40.09685709069516, 'solver': 'newton-cg', 'penalty': 'l2', 'max_iter': 650}. Best is trial 0 with value: 1.0.\n",
      "[I 2024-11-26 16:14:31,812] Trial 145 finished with value: 1.0 and parameters: {'C': 23.96030710874779, 'solver': 'newton-cg', 'penalty': 'l2', 'max_iter': 450}. Best is trial 0 with value: 1.0.\n",
      "[I 2024-11-26 16:14:31,861] Trial 146 finished with value: 1.0 and parameters: {'C': 35.735082727082165, 'solver': 'lbfgs', 'penalty': 'l2', 'max_iter': 850}. Best is trial 0 with value: 1.0.\n",
      "[I 2024-11-26 16:14:31,881] Trial 147 finished with value: 1.0 and parameters: {'C': 81.82254240132606, 'solver': 'liblinear', 'penalty': 'l2', 'max_iter': 250}. Best is trial 0 with value: 1.0.\n",
      "[I 2024-11-26 16:14:31,909] Trial 148 finished with value: 1.0 and parameters: {'C': 17.16977574453753, 'solver': 'newton-cg', 'penalty': 'l2', 'max_iter': 150}. Best is trial 0 with value: 1.0.\n",
      "[I 2024-11-26 16:14:31,926] Trial 149 finished with value: 1.0 and parameters: {'C': 5.990489021746784, 'solver': 'liblinear', 'penalty': 'l2', 'max_iter': 550}. Best is trial 0 with value: 1.0.\n",
      "[I 2024-11-26 16:14:31,953] Trial 150 finished with value: 1.0 and parameters: {'C': 2.837710328885022, 'solver': 'newton-cholesky', 'penalty': 'l2', 'max_iter': 950}. Best is trial 0 with value: 1.0.\n",
      "[I 2024-11-26 16:14:31,971] Trial 151 finished with value: 1.0 and parameters: {'C': 10.9740184196897, 'solver': 'liblinear', 'penalty': 'l2', 'max_iter': 850}. Best is trial 0 with value: 1.0.\n",
      "[I 2024-11-26 16:14:31,988] Trial 152 finished with value: 1.0 and parameters: {'C': 27.365241057131207, 'solver': 'liblinear', 'penalty': 'l2', 'max_iter': 950}. Best is trial 0 with value: 1.0.\n",
      "[I 2024-11-26 16:14:32,005] Trial 153 finished with value: 1.0 and parameters: {'C': 4.455585057229741, 'solver': 'liblinear', 'penalty': 'l2', 'max_iter': 750}. Best is trial 0 with value: 1.0.\n",
      "[I 2024-11-26 16:14:32,023] Trial 154 finished with value: 1.0 and parameters: {'C': 0.08223290892202449, 'solver': 'liblinear', 'penalty': 'l2', 'max_iter': 650}. Best is trial 0 with value: 1.0.\n",
      "[I 2024-11-26 16:14:32,048] Trial 155 finished with value: 1.0 and parameters: {'C': 0.15948332105557889, 'solver': 'newton-cg', 'penalty': 'l2', 'max_iter': 850}. Best is trial 0 with value: 1.0.\n",
      "[I 2024-11-26 16:14:32,065] Trial 156 finished with value: 1.0 and parameters: {'C': 52.00287812835722, 'solver': 'liblinear', 'penalty': 'l2', 'max_iter': 750}. Best is trial 0 with value: 1.0.\n",
      "[I 2024-11-26 16:14:32,101] Trial 157 finished with value: 0.7063492063492064 and parameters: {'C': 8.409987444788372, 'solver': 'sag', 'penalty': 'l2', 'max_iter': 650}. Best is trial 0 with value: 1.0.\n",
      "[I 2024-11-26 16:14:32,126] Trial 158 finished with value: 1.0 and parameters: {'C': 16.449198055873538, 'solver': 'newton-cg', 'penalty': 'l2', 'max_iter': 850}. Best is trial 0 with value: 1.0.\n",
      "[I 2024-11-26 16:14:32,163] Trial 159 finished with value: 1.0 and parameters: {'C': 13.06823935819852, 'solver': 'lbfgs', 'penalty': 'l2', 'max_iter': 750}. Best is trial 0 with value: 1.0.\n",
      "[I 2024-11-26 16:14:32,181] Trial 160 finished with value: 0.9920634920634921 and parameters: {'C': 0.03815217211946535, 'solver': 'newton-cholesky', 'penalty': 'l2', 'max_iter': 550}. Best is trial 0 with value: 1.0.\n",
      "[I 2024-11-26 16:14:32,201] Trial 161 finished with value: 1.0 and parameters: {'C': 1.9444186939548604, 'solver': 'newton-cholesky', 'penalty': 'l2', 'max_iter': 450}. Best is trial 0 with value: 1.0.\n",
      "[I 2024-11-26 16:14:32,221] Trial 162 finished with value: 1.0 and parameters: {'C': 1.587746365071319, 'solver': 'newton-cholesky', 'penalty': 'l2', 'max_iter': 350}. Best is trial 0 with value: 1.0.\n",
      "[I 2024-11-26 16:14:32,241] Trial 163 finished with value: 1.0 and parameters: {'C': 3.377968439772459, 'solver': 'newton-cholesky', 'penalty': 'l2', 'max_iter': 450}. Best is trial 0 with value: 1.0.\n",
      "[I 2024-11-26 16:14:32,274] Trial 164 finished with value: 0.6666666666666666 and parameters: {'C': 6.495393996713539, 'solver': 'saga', 'penalty': 'l2', 'max_iter': 450}. Best is trial 0 with value: 1.0.\n",
      "[I 2024-11-26 16:14:32,293] Trial 165 finished with value: 1.0 and parameters: {'C': 2.602828755745065, 'solver': 'liblinear', 'penalty': 'l2', 'max_iter': 550}. Best is trial 0 with value: 1.0.\n",
      "[I 2024-11-26 16:14:32,312] Trial 166 finished with value: 0.8253968253968254 and parameters: {'C': 0.0221982206831264, 'solver': 'newton-cholesky', 'penalty': 'l2', 'max_iter': 650}. Best is trial 0 with value: 1.0.\n",
      "[I 2024-11-26 16:14:32,334] Trial 167 finished with value: 0.6587301587301587 and parameters: {'C': 0.005966789676079369, 'solver': 'newton-cg', 'penalty': 'l2', 'max_iter': 950}. Best is trial 0 with value: 1.0.\n",
      "[I 2024-11-26 16:14:32,352] Trial 168 finished with value: 1.0 and parameters: {'C': 64.30269163539882, 'solver': 'liblinear', 'penalty': 'l2', 'max_iter': 350}. Best is trial 0 with value: 1.0.\n",
      "[I 2024-11-26 16:14:32,381] Trial 169 finished with value: 1.0 and parameters: {'C': 4.294976818510567, 'solver': 'newton-cg', 'penalty': 'l2', 'max_iter': 550}. Best is trial 0 with value: 1.0.\n",
      "[I 2024-11-26 16:14:32,402] Trial 170 finished with value: 1.0 and parameters: {'C': 1.1095602709129742, 'solver': 'liblinear', 'penalty': 'l2', 'max_iter': 750}. Best is trial 0 with value: 1.0.\n",
      "[I 2024-11-26 16:14:32,446] Trial 171 finished with value: 1.0 and parameters: {'C': 41.35809086899068, 'solver': 'lbfgs', 'penalty': 'l2', 'max_iter': 650}. Best is trial 0 with value: 1.0.\n",
      "[I 2024-11-26 16:14:32,489] Trial 172 finished with value: 1.0 and parameters: {'C': 33.751800479440654, 'solver': 'lbfgs', 'penalty': 'l2', 'max_iter': 250}. Best is trial 0 with value: 1.0.\n",
      "[I 2024-11-26 16:14:32,530] Trial 173 finished with value: 1.0 and parameters: {'C': 22.405471893538493, 'solver': 'lbfgs', 'penalty': 'l2', 'max_iter': 650}. Best is trial 0 with value: 1.0.\n",
      "[I 2024-11-26 16:14:32,579] Trial 174 finished with value: 1.0 and parameters: {'C': 73.74140775804305, 'solver': 'lbfgs', 'penalty': 'l2', 'max_iter': 650}. Best is trial 0 with value: 1.0.\n",
      "[I 2024-11-26 16:14:32,603] Trial 175 finished with value: 1.0 and parameters: {'C': 9.745788586176827, 'solver': 'newton-cholesky', 'penalty': 'l2', 'max_iter': 450}. Best is trial 0 with value: 1.0.\n",
      "[I 2024-11-26 16:14:32,629] Trial 176 finished with value: 1.0 and parameters: {'C': 0.5200318948893007, 'solver': 'newton-cg', 'penalty': 'l2', 'max_iter': 550}. Best is trial 0 with value: 1.0.\n",
      "[I 2024-11-26 16:14:32,649] Trial 177 finished with value: 1.0 and parameters: {'C': 95.93640033698426, 'solver': 'liblinear', 'penalty': 'l2', 'max_iter': 150}. Best is trial 0 with value: 1.0.\n",
      "[I 2024-11-26 16:14:32,695] Trial 178 finished with value: 1.0 and parameters: {'C': 52.19673056961938, 'solver': 'lbfgs', 'penalty': 'l2', 'max_iter': 550}. Best is trial 0 with value: 1.0.\n",
      "[I 2024-11-26 16:14:32,720] Trial 179 finished with value: 1.0 and parameters: {'C': 7.074855115659711, 'solver': 'newton-cg', 'penalty': 'l2', 'max_iter': 750}. Best is trial 0 with value: 1.0.\n",
      "[I 2024-11-26 16:14:32,741] Trial 180 finished with value: 1.0 and parameters: {'C': 29.906390822738416, 'solver': 'liblinear', 'penalty': 'l2', 'max_iter': 850}. Best is trial 0 with value: 1.0.\n",
      "[I 2024-11-26 16:14:32,767] Trial 181 finished with value: 1.0 and parameters: {'C': 0.29264638251526526, 'solver': 'newton-cg', 'penalty': 'l2', 'max_iter': 550}. Best is trial 0 with value: 1.0.\n",
      "[I 2024-11-26 16:14:32,794] Trial 182 finished with value: 1.0 and parameters: {'C': 0.6221483055982285, 'solver': 'newton-cg', 'penalty': 'l2', 'max_iter': 550}. Best is trial 0 with value: 1.0.\n",
      "[I 2024-11-26 16:14:32,822] Trial 183 finished with value: 1.0 and parameters: {'C': 20.33970824363214, 'solver': 'newton-cg', 'penalty': 'l2', 'max_iter': 650}. Best is trial 0 with value: 1.0.\n",
      "[I 2024-11-26 16:14:32,848] Trial 184 finished with value: 1.0 and parameters: {'C': 0.3694471476741259, 'solver': 'newton-cg', 'penalty': 'l2', 'max_iter': 550}. Best is trial 0 with value: 1.0.\n",
      "[I 2024-11-26 16:14:32,869] Trial 185 finished with value: 1.0 and parameters: {'C': 2.128419255983385, 'solver': 'newton-cholesky', 'penalty': 'l2', 'max_iter': 650}. Best is trial 0 with value: 1.0.\n",
      "[I 2024-11-26 16:14:32,896] Trial 186 finished with value: 1.0 and parameters: {'C': 0.906299362362462, 'solver': 'newton-cg', 'penalty': 'l2', 'max_iter': 450}. Best is trial 0 with value: 1.0.\n",
      "[I 2024-11-26 16:14:32,914] Trial 187 finished with value: 1.0 and parameters: {'C': 4.59310183422609, 'solver': 'liblinear', 'penalty': 'l2', 'max_iter': 250}. Best is trial 0 with value: 1.0.\n",
      "[I 2024-11-26 16:14:32,947] Trial 188 finished with value: 0.6904761904761905 and parameters: {'C': 13.69665318389242, 'solver': 'sag', 'penalty': 'l2', 'max_iter': 550}. Best is trial 0 with value: 1.0.\n",
      "[I 2024-11-26 16:14:32,968] Trial 189 finished with value: 0.6507936507936508 and parameters: {'C': 0.0005769236830105723, 'solver': 'newton-cg', 'penalty': 'l2', 'max_iter': 750}. Best is trial 0 with value: 1.0.\n",
      "[I 2024-11-26 16:14:32,988] Trial 190 finished with value: 1.0 and parameters: {'C': 64.97091405070701, 'solver': 'liblinear', 'penalty': 'l2', 'max_iter': 650}. Best is trial 0 with value: 1.0.\n",
      "[I 2024-11-26 16:14:33,007] Trial 191 finished with value: 1.0 and parameters: {'C': 7.5288646426991, 'solver': 'liblinear', 'penalty': 'l2', 'max_iter': 950}. Best is trial 0 with value: 1.0.\n",
      "[I 2024-11-26 16:14:33,025] Trial 192 finished with value: 1.0 and parameters: {'C': 11.612415185028993, 'solver': 'liblinear', 'penalty': 'l2', 'max_iter': 750}. Best is trial 0 with value: 1.0.\n",
      "[I 2024-11-26 16:14:33,045] Trial 193 finished with value: 1.0 and parameters: {'C': 16.523493304521473, 'solver': 'liblinear', 'penalty': 'l2', 'max_iter': 850}. Best is trial 0 with value: 1.0.\n",
      "[I 2024-11-26 16:14:33,062] Trial 194 finished with value: 1.0 and parameters: {'C': 0.2125790176409302, 'solver': 'liblinear', 'penalty': 'l2', 'max_iter': 850}. Best is trial 0 with value: 1.0.\n",
      "[I 2024-11-26 16:14:33,097] Trial 195 finished with value: 0.6666666666666666 and parameters: {'C': 3.2347499562888893, 'solver': 'saga', 'penalty': 'l2', 'max_iter': 550}. Best is trial 0 with value: 1.0.\n",
      "[I 2024-11-26 16:14:33,117] Trial 196 finished with value: 1.0 and parameters: {'C': 5.577520174136241, 'solver': 'newton-cholesky', 'penalty': 'l2', 'max_iter': 450}. Best is trial 0 with value: 1.0.\n",
      "[I 2024-11-26 16:14:33,156] Trial 197 finished with value: 1.0 and parameters: {'C': 45.878325386486544, 'solver': 'lbfgs', 'penalty': 'l2', 'max_iter': 950}. Best is trial 0 with value: 1.0.\n",
      "[I 2024-11-26 16:14:33,182] Trial 198 finished with value: 1.0 and parameters: {'C': 1.635094964335618, 'solver': 'newton-cg', 'penalty': 'l2', 'max_iter': 350}. Best is trial 0 with value: 1.0.\n",
      "[I 2024-11-26 16:14:33,201] Trial 199 finished with value: 1.0 and parameters: {'C': 24.689655830155523, 'solver': 'liblinear', 'penalty': 'l2', 'max_iter': 550}. Best is trial 0 with value: 1.0.\n",
      "[I 2024-11-26 16:14:33,223] Trial 200 finished with value: 1.0 and parameters: {'C': 8.499676621691261, 'solver': 'liblinear', 'penalty': 'l2', 'max_iter': 750}. Best is trial 0 with value: 1.0.\n",
      "[I 2024-11-26 16:14:33,251] Trial 201 finished with value: 1.0 and parameters: {'C': 5.3039940185077725, 'solver': 'newton-cg', 'penalty': 'l2', 'max_iter': 650}. Best is trial 0 with value: 1.0.\n",
      "[I 2024-11-26 16:14:33,276] Trial 202 finished with value: 1.0 and parameters: {'C': 3.2792605598042504, 'solver': 'newton-cg', 'penalty': 'l2', 'max_iter': 650}. Best is trial 0 with value: 1.0.\n",
      "[I 2024-11-26 16:14:33,304] Trial 203 finished with value: 1.0 and parameters: {'C': 94.38761517972138, 'solver': 'newton-cg', 'penalty': 'l2', 'max_iter': 650}. Best is trial 0 with value: 1.0.\n",
      "[I 2024-11-26 16:14:33,330] Trial 204 finished with value: 1.0 and parameters: {'C': 2.369451756528908, 'solver': 'newton-cg', 'penalty': 'l2', 'max_iter': 250}. Best is trial 0 with value: 1.0.\n",
      "[I 2024-11-26 16:14:33,356] Trial 205 finished with value: 1.0 and parameters: {'C': 1.2597011714003639, 'solver': 'newton-cg', 'penalty': 'l2', 'max_iter': 650}. Best is trial 0 with value: 1.0.\n",
      "[I 2024-11-26 16:14:33,378] Trial 206 finished with value: 1.0 and parameters: {'C': 11.061837271912633, 'solver': 'newton-cholesky', 'penalty': 'l2', 'max_iter': 550}. Best is trial 0 with value: 1.0.\n",
      "[I 2024-11-26 16:14:33,396] Trial 207 finished with value: 1.0 and parameters: {'C': 4.002244186837865, 'solver': 'liblinear', 'penalty': 'l2', 'max_iter': 750}. Best is trial 0 with value: 1.0.\n",
      "[I 2024-11-26 16:14:33,430] Trial 208 finished with value: 1.0 and parameters: {'C': 6.111980583481266, 'solver': 'newton-cg', 'penalty': 'l2', 'max_iter': 850}. Best is trial 0 with value: 1.0.\n",
      "[I 2024-11-26 16:14:33,466] Trial 209 finished with value: 1.0 and parameters: {'C': 0.13540320585290258, 'solver': 'lbfgs', 'penalty': 'l2', 'max_iter': 650}. Best is trial 0 with value: 1.0.\n",
      "[I 2024-11-26 16:14:33,486] Trial 210 finished with value: 1.0 and parameters: {'C': 38.692494567446225, 'solver': 'liblinear', 'penalty': 'l2', 'max_iter': 650}. Best is trial 0 with value: 1.0.\n",
      "[I 2024-11-26 16:14:33,515] Trial 211 finished with value: 1.0 and parameters: {'C': 49.68389755519183, 'solver': 'newton-cg', 'penalty': 'l2', 'max_iter': 750}. Best is trial 0 with value: 1.0.\n",
      "[I 2024-11-26 16:14:33,543] Trial 212 finished with value: 1.0 and parameters: {'C': 29.24166735637778, 'solver': 'newton-cg', 'penalty': 'l2', 'max_iter': 750}. Best is trial 0 with value: 1.0.\n",
      "[I 2024-11-26 16:14:33,572] Trial 213 finished with value: 1.0 and parameters: {'C': 68.56310173423655, 'solver': 'newton-cg', 'penalty': 'l2', 'max_iter': 750}. Best is trial 0 with value: 1.0.\n",
      "[I 2024-11-26 16:14:33,599] Trial 214 finished with value: 1.0 and parameters: {'C': 70.7485472057739, 'solver': 'newton-cg', 'penalty': 'l2', 'max_iter': 750}. Best is trial 0 with value: 1.0.\n",
      "[I 2024-11-26 16:14:33,628] Trial 215 finished with value: 1.0 and parameters: {'C': 34.60387718612705, 'solver': 'newton-cg', 'penalty': 'l2', 'max_iter': 550}. Best is trial 0 with value: 1.0.\n",
      "[I 2024-11-26 16:14:33,649] Trial 216 finished with value: 1.0 and parameters: {'C': 98.93953092587503, 'solver': 'newton-cholesky', 'penalty': 'l2', 'max_iter': 650}. Best is trial 0 with value: 1.0.\n",
      "[I 2024-11-26 16:14:33,671] Trial 217 finished with value: 1.0 and parameters: {'C': 16.360794741723193, 'solver': 'liblinear', 'penalty': 'l2', 'max_iter': 450}. Best is trial 0 with value: 1.0.\n",
      "[I 2024-11-26 16:14:33,700] Trial 218 finished with value: 1.0 and parameters: {'C': 51.60770523652252, 'solver': 'newton-cg', 'penalty': 'l2', 'max_iter': 550}. Best is trial 0 with value: 1.0.\n",
      "[I 2024-11-26 16:14:33,719] Trial 219 finished with value: 1.0 and parameters: {'C': 20.728636761349982, 'solver': 'liblinear', 'penalty': 'l2', 'max_iter': 850}. Best is trial 0 with value: 1.0.\n",
      "[I 2024-11-26 16:14:33,747] Trial 220 finished with value: 0.6428571428571429 and parameters: {'C': 3.217935184739946e-05, 'solver': 'newton-cg', 'penalty': 'l2', 'max_iter': 650}. Best is trial 0 with value: 1.0.\n",
      "[I 2024-11-26 16:14:33,777] Trial 221 finished with value: 1.0 and parameters: {'C': 0.7833724232074623, 'solver': 'newton-cg', 'penalty': 'l2', 'max_iter': 650}. Best is trial 0 with value: 1.0.\n",
      "[I 2024-11-26 16:14:33,806] Trial 222 finished with value: 1.0 and parameters: {'C': 1.2014515797598821, 'solver': 'newton-cg', 'penalty': 'l2', 'max_iter': 650}. Best is trial 0 with value: 1.0.\n",
      "[I 2024-11-26 16:14:33,833] Trial 223 finished with value: 1.0 and parameters: {'C': 0.585512972704192, 'solver': 'newton-cg', 'penalty': 'l2', 'max_iter': 650}. Best is trial 0 with value: 1.0.\n",
      "[I 2024-11-26 16:14:33,872] Trial 224 finished with value: 0.7142857142857143 and parameters: {'C': 0.4144111993380005, 'solver': 'sag', 'penalty': 'l2', 'max_iter': 750}. Best is trial 0 with value: 1.0.\n",
      "[I 2024-11-26 16:14:33,911] Trial 225 finished with value: 1.0 and parameters: {'C': 2.1371042273880483, 'solver': 'lbfgs', 'penalty': 'l2', 'max_iter': 550}. Best is trial 0 with value: 1.0.\n",
      "[I 2024-11-26 16:14:33,939] Trial 226 finished with value: 1.0 and parameters: {'C': 1.4189650248505046, 'solver': 'newton-cg', 'penalty': 'l2', 'max_iter': 650}. Best is trial 0 with value: 1.0.\n",
      "[I 2024-11-26 16:14:33,959] Trial 227 finished with value: 1.0 and parameters: {'C': 7.861150802194768, 'solver': 'newton-cholesky', 'penalty': 'l2', 'max_iter': 350}. Best is trial 0 with value: 1.0.\n",
      "[I 2024-11-26 16:14:33,980] Trial 228 finished with value: 1.0 and parameters: {'C': 13.138908565226359, 'solver': 'liblinear', 'penalty': 'l2', 'max_iter': 250}. Best is trial 0 with value: 1.0.\n",
      "[I 2024-11-26 16:14:34,011] Trial 229 finished with value: 1.0 and parameters: {'C': 3.227834975457328, 'solver': 'newton-cg', 'penalty': 'l2', 'max_iter': 750}. Best is trial 0 with value: 1.0.\n",
      "[I 2024-11-26 16:14:34,055] Trial 230 finished with value: 0.6666666666666666 and parameters: {'C': 0.757236058406217, 'solver': 'saga', 'penalty': 'l2', 'max_iter': 550}. Best is trial 0 with value: 1.0.\n",
      "[I 2024-11-26 16:14:34,083] Trial 231 finished with value: 1.0 and parameters: {'C': 0.04254531423940029, 'solver': 'newton-cg', 'penalty': 'l2', 'max_iter': 550}. Best is trial 0 with value: 1.0.\n",
      "[I 2024-11-26 16:14:34,108] Trial 232 finished with value: 1.0 and parameters: {'C': 0.10945146966468536, 'solver': 'newton-cg', 'penalty': 'l2', 'max_iter': 550}. Best is trial 0 with value: 1.0.\n",
      "[I 2024-11-26 16:14:34,134] Trial 233 finished with value: 1.0 and parameters: {'C': 0.08019979953023106, 'solver': 'newton-cg', 'penalty': 'l2', 'max_iter': 550}. Best is trial 0 with value: 1.0.\n",
      "[I 2024-11-26 16:14:34,162] Trial 234 finished with value: 1.0 and parameters: {'C': 4.570672421523874, 'solver': 'newton-cg', 'penalty': 'l2', 'max_iter': 450}. Best is trial 0 with value: 1.0.\n",
      "[I 2024-11-26 16:14:34,183] Trial 235 finished with value: 0.9920634920634921 and parameters: {'C': 0.049858636000115676, 'solver': 'liblinear', 'penalty': 'l2', 'max_iter': 950}. Best is trial 0 with value: 1.0.\n",
      "[I 2024-11-26 16:14:34,209] Trial 236 finished with value: 1.0 and parameters: {'C': 0.21165869210765587, 'solver': 'newton-cg', 'penalty': 'l2', 'max_iter': 650}. Best is trial 0 with value: 1.0.\n",
      "[I 2024-11-26 16:14:34,232] Trial 237 finished with value: 0.9126984126984127 and parameters: {'C': 0.030086698085992312, 'solver': 'newton-cholesky', 'penalty': 'l2', 'max_iter': 550}. Best is trial 0 with value: 1.0.\n",
      "[I 2024-11-26 16:14:34,269] Trial 238 finished with value: 1.0 and parameters: {'C': 0.3138425903789696, 'solver': 'liblinear', 'penalty': 'l2', 'max_iter': 550}. Best is trial 0 with value: 1.0.\n",
      "[I 2024-11-26 16:14:34,332] Trial 239 finished with value: 1.0 and parameters: {'C': 61.88587237035718, 'solver': 'lbfgs', 'penalty': 'l2', 'max_iter': 650}. Best is trial 0 with value: 1.0.\n",
      "[I 2024-11-26 16:14:34,369] Trial 240 finished with value: 1.0 and parameters: {'C': 0.06813688293409896, 'solver': 'newton-cg', 'penalty': 'l2', 'max_iter': 850}. Best is trial 0 with value: 1.0.\n",
      "[I 2024-11-26 16:14:34,393] Trial 241 finished with value: 1.0 and parameters: {'C': 21.443620776471164, 'solver': 'liblinear', 'penalty': 'l2', 'max_iter': 250}. Best is trial 0 with value: 1.0.\n",
      "[I 2024-11-26 16:14:34,418] Trial 242 finished with value: 1.0 and parameters: {'C': 9.080292147589695, 'solver': 'liblinear', 'penalty': 'l2', 'max_iter': 350}. Best is trial 0 with value: 1.0.\n",
      "[I 2024-11-26 16:14:34,444] Trial 243 finished with value: 1.0 and parameters: {'C': 12.47563071794594, 'solver': 'liblinear', 'penalty': 'l2', 'max_iter': 450}. Best is trial 0 with value: 1.0.\n",
      "[I 2024-11-26 16:14:34,468] Trial 244 finished with value: 1.0 and parameters: {'C': 17.348122216862723, 'solver': 'liblinear', 'penalty': 'l2', 'max_iter': 350}. Best is trial 0 with value: 1.0.\n",
      "[I 2024-11-26 16:14:34,494] Trial 245 finished with value: 1.0 and parameters: {'C': 41.57499714309534, 'solver': 'liblinear', 'penalty': 'l2', 'max_iter': 150}. Best is trial 0 with value: 1.0.\n",
      "[I 2024-11-26 16:14:34,527] Trial 246 finished with value: 1.0 and parameters: {'C': 28.717789817036543, 'solver': 'newton-cg', 'penalty': 'l2', 'max_iter': 50}. Best is trial 0 with value: 1.0.\n",
      "[I 2024-11-26 16:14:34,552] Trial 247 finished with value: 1.0 and parameters: {'C': 6.22621656002679, 'solver': 'liblinear', 'penalty': 'l2', 'max_iter': 750}. Best is trial 0 with value: 1.0.\n",
      "[I 2024-11-26 16:14:34,596] Trial 248 finished with value: 1.0 and parameters: {'C': 0.9510647321764898, 'solver': 'newton-cg', 'penalty': 'l2', 'max_iter': 450}. Best is trial 0 with value: 1.0.\n",
      "[I 2024-11-26 16:14:34,633] Trial 249 finished with value: 1.0 and parameters: {'C': 82.94356498816227, 'solver': 'newton-cholesky', 'penalty': 'l2', 'max_iter': 250}. Best is trial 0 with value: 1.0.\n"
     ]
    }
   ],
   "source": [
    "# Optimize hyperparameters for Logistic Regression using Optuna\n",
    "import optuna\n",
    "from sklearn.metrics import accuracy_score\n",
    "from optuna.visualization import plot_optimization_history, plot_param_importances\n",
    "\n",
    "def objective_lr(trial):\n",
    "    # Define los hiperparámetros a optimizar\n",
    "    C = trial.suggest_float('C', 1e-5, 1e2, log=True)\n",
    "    solver = trial.suggest_categorical('solver', ['lbfgs', 'liblinear', 'newton-cg', 'newton-cholesky', 'sag', 'saga'])\n",
    "    penalty = trial.suggest_categorical('penalty', ['l2'])\n",
    "    max_iter = trial.suggest_int('max_iter', 50, 1000, step=100)\n",
    "    \n",
    "    # Crea el modelo con los hiperparámetros dados\n",
    "    model = LogisticRegression(C=C, solver=solver, max_iter=max_iter, penalty=penalty)\n",
    "    \n",
    "    # Entrena el modelo\n",
    "    model.fit(X_train, y_train)\n",
    "    \n",
    "    # Predicción y cálculo de precisión\n",
    "    preds = model.predict(X_test)\n",
    "    accuracy = accuracy_score(y_test, preds)\n",
    "    return accuracy\n",
    "\n",
    "# Crea un estudio para Regresión Logística\n",
    "study_lr = optuna.create_study(direction='maximize', study_name='Logistic Regression')\n",
    "study_lr.optimize(objective_lr, n_trials=250) # type: ignore"
   ]
  },
  {
   "cell_type": "code",
   "execution_count": 73,
   "metadata": {},
   "outputs": [
    {
     "data": {
      "application/vnd.plotly.v1+json": {
       "config": {
        "plotlyServerURL": "https://plot.ly"
       },
       "data": [
        {
         "mode": "markers",
         "name": "Objective Value",
         "type": "scatter",
         "x": [
          0,
          1,
          2,
          3,
          4,
          5,
          6,
          7,
          8,
          9,
          10,
          11,
          12,
          13,
          14,
          15,
          16,
          17,
          18,
          19,
          20,
          21,
          22,
          23,
          24,
          25,
          26,
          27,
          28,
          29,
          30,
          31,
          32,
          33,
          34,
          35,
          36,
          37,
          38,
          39,
          40,
          41,
          42,
          43,
          44,
          45,
          46,
          47,
          48,
          49,
          50,
          51,
          52,
          53,
          54,
          55,
          56,
          57,
          58,
          59,
          60,
          61,
          62,
          63,
          64,
          65,
          66,
          67,
          68,
          69,
          70,
          71,
          72,
          73,
          74,
          75,
          76,
          77,
          78,
          79,
          80,
          81,
          82,
          83,
          84,
          85,
          86,
          87,
          88,
          89,
          90,
          91,
          92,
          93,
          94,
          95,
          96,
          97,
          98,
          99,
          100,
          101,
          102,
          103,
          104,
          105,
          106,
          107,
          108,
          109,
          110,
          111,
          112,
          113,
          114,
          115,
          116,
          117,
          118,
          119,
          120,
          121,
          122,
          123,
          124,
          125,
          126,
          127,
          128,
          129,
          130,
          131,
          132,
          133,
          134,
          135,
          136,
          137,
          138,
          139,
          140,
          141,
          142,
          143,
          144,
          145,
          146,
          147,
          148,
          149,
          150,
          151,
          152,
          153,
          154,
          155,
          156,
          157,
          158,
          159,
          160,
          161,
          162,
          163,
          164,
          165,
          166,
          167,
          168,
          169,
          170,
          171,
          172,
          173,
          174,
          175,
          176,
          177,
          178,
          179,
          180,
          181,
          182,
          183,
          184,
          185,
          186,
          187,
          188,
          189,
          190,
          191,
          192,
          193,
          194,
          195,
          196,
          197,
          198,
          199,
          200,
          201,
          202,
          203,
          204,
          205,
          206,
          207,
          208,
          209,
          210,
          211,
          212,
          213,
          214,
          215,
          216,
          217,
          218,
          219,
          220,
          221,
          222,
          223,
          224,
          225,
          226,
          227,
          228,
          229,
          230,
          231,
          232,
          233,
          234,
          235,
          236,
          237,
          238,
          239,
          240,
          241,
          242,
          243,
          244,
          245,
          246,
          247,
          248,
          249
         ],
         "y": [
          1,
          0.6507936507936508,
          0.7222222222222222,
          1,
          0.6666666666666666,
          0.6666666666666666,
          0.6507936507936508,
          0.6666666666666666,
          0.6507936507936508,
          0.6666666666666666,
          1,
          1,
          1,
          1,
          0.8888888888888888,
          1,
          1,
          1,
          1,
          0.6904761904761905,
          1,
          1,
          1,
          1,
          1,
          1,
          1,
          1,
          1,
          0.6507936507936508,
          1,
          1,
          1,
          1,
          0.6904761904761905,
          1,
          0.6666666666666666,
          0.7301587301587301,
          0.6428571428571429,
          1,
          1,
          1,
          1,
          1,
          1,
          1,
          1,
          0.6904761904761905,
          1,
          0.6666666666666666,
          0.6666666666666666,
          1,
          1,
          1,
          1,
          1,
          1,
          1,
          1,
          1,
          1,
          1,
          1,
          1,
          1,
          1,
          1,
          1,
          1,
          0.7142857142857143,
          1,
          1,
          1,
          1,
          0.6666666666666666,
          1,
          1,
          1,
          1,
          1,
          1,
          1,
          1,
          1,
          1,
          0.7142857142857143,
          1,
          0.6746031746031746,
          0.6507936507936508,
          1,
          1,
          0.6587301587301587,
          1,
          0.9126984126984127,
          1,
          0.6507936507936508,
          1,
          1,
          0.6825396825396826,
          1,
          1,
          1,
          0.9920634920634921,
          1,
          1,
          1,
          0.6904761904761905,
          1,
          1,
          1,
          0.6666666666666666,
          1,
          1,
          1,
          1,
          1,
          1,
          0.6349206349206349,
          1,
          0.7301587301587301,
          1,
          1,
          1,
          1,
          1,
          1,
          1,
          1,
          0.7142857142857143,
          1,
          1,
          1,
          1,
          1,
          1,
          1,
          0.6666666666666666,
          1,
          1,
          1,
          1,
          1,
          1,
          1,
          1,
          1,
          1,
          1,
          1,
          1,
          1,
          1,
          1,
          1,
          1,
          1,
          1,
          0.7063492063492064,
          1,
          1,
          0.9920634920634921,
          1,
          1,
          1,
          0.6666666666666666,
          1,
          0.8253968253968254,
          0.6587301587301587,
          1,
          1,
          1,
          1,
          1,
          1,
          1,
          1,
          1,
          1,
          1,
          1,
          1,
          1,
          1,
          1,
          1,
          1,
          1,
          1,
          0.6904761904761905,
          0.6507936507936508,
          1,
          1,
          1,
          1,
          1,
          0.6666666666666666,
          1,
          1,
          1,
          1,
          1,
          1,
          1,
          1,
          1,
          1,
          1,
          1,
          1,
          1,
          1,
          1,
          1,
          1,
          1,
          1,
          1,
          1,
          1,
          1,
          0.6428571428571429,
          1,
          1,
          1,
          0.7142857142857143,
          1,
          1,
          1,
          1,
          1,
          0.6666666666666666,
          1,
          1,
          1,
          1,
          0.9920634920634921,
          1,
          0.9126984126984127,
          1,
          1,
          1,
          1,
          1,
          1,
          1,
          1,
          1,
          1,
          1,
          1
         ]
        },
        {
         "mode": "lines",
         "name": "Best Value",
         "type": "scatter",
         "x": [
          0,
          1,
          2,
          3,
          4,
          5,
          6,
          7,
          8,
          9,
          10,
          11,
          12,
          13,
          14,
          15,
          16,
          17,
          18,
          19,
          20,
          21,
          22,
          23,
          24,
          25,
          26,
          27,
          28,
          29,
          30,
          31,
          32,
          33,
          34,
          35,
          36,
          37,
          38,
          39,
          40,
          41,
          42,
          43,
          44,
          45,
          46,
          47,
          48,
          49,
          50,
          51,
          52,
          53,
          54,
          55,
          56,
          57,
          58,
          59,
          60,
          61,
          62,
          63,
          64,
          65,
          66,
          67,
          68,
          69,
          70,
          71,
          72,
          73,
          74,
          75,
          76,
          77,
          78,
          79,
          80,
          81,
          82,
          83,
          84,
          85,
          86,
          87,
          88,
          89,
          90,
          91,
          92,
          93,
          94,
          95,
          96,
          97,
          98,
          99,
          100,
          101,
          102,
          103,
          104,
          105,
          106,
          107,
          108,
          109,
          110,
          111,
          112,
          113,
          114,
          115,
          116,
          117,
          118,
          119,
          120,
          121,
          122,
          123,
          124,
          125,
          126,
          127,
          128,
          129,
          130,
          131,
          132,
          133,
          134,
          135,
          136,
          137,
          138,
          139,
          140,
          141,
          142,
          143,
          144,
          145,
          146,
          147,
          148,
          149,
          150,
          151,
          152,
          153,
          154,
          155,
          156,
          157,
          158,
          159,
          160,
          161,
          162,
          163,
          164,
          165,
          166,
          167,
          168,
          169,
          170,
          171,
          172,
          173,
          174,
          175,
          176,
          177,
          178,
          179,
          180,
          181,
          182,
          183,
          184,
          185,
          186,
          187,
          188,
          189,
          190,
          191,
          192,
          193,
          194,
          195,
          196,
          197,
          198,
          199,
          200,
          201,
          202,
          203,
          204,
          205,
          206,
          207,
          208,
          209,
          210,
          211,
          212,
          213,
          214,
          215,
          216,
          217,
          218,
          219,
          220,
          221,
          222,
          223,
          224,
          225,
          226,
          227,
          228,
          229,
          230,
          231,
          232,
          233,
          234,
          235,
          236,
          237,
          238,
          239,
          240,
          241,
          242,
          243,
          244,
          245,
          246,
          247,
          248,
          249
         ],
         "y": [
          1,
          1,
          1,
          1,
          1,
          1,
          1,
          1,
          1,
          1,
          1,
          1,
          1,
          1,
          1,
          1,
          1,
          1,
          1,
          1,
          1,
          1,
          1,
          1,
          1,
          1,
          1,
          1,
          1,
          1,
          1,
          1,
          1,
          1,
          1,
          1,
          1,
          1,
          1,
          1,
          1,
          1,
          1,
          1,
          1,
          1,
          1,
          1,
          1,
          1,
          1,
          1,
          1,
          1,
          1,
          1,
          1,
          1,
          1,
          1,
          1,
          1,
          1,
          1,
          1,
          1,
          1,
          1,
          1,
          1,
          1,
          1,
          1,
          1,
          1,
          1,
          1,
          1,
          1,
          1,
          1,
          1,
          1,
          1,
          1,
          1,
          1,
          1,
          1,
          1,
          1,
          1,
          1,
          1,
          1,
          1,
          1,
          1,
          1,
          1,
          1,
          1,
          1,
          1,
          1,
          1,
          1,
          1,
          1,
          1,
          1,
          1,
          1,
          1,
          1,
          1,
          1,
          1,
          1,
          1,
          1,
          1,
          1,
          1,
          1,
          1,
          1,
          1,
          1,
          1,
          1,
          1,
          1,
          1,
          1,
          1,
          1,
          1,
          1,
          1,
          1,
          1,
          1,
          1,
          1,
          1,
          1,
          1,
          1,
          1,
          1,
          1,
          1,
          1,
          1,
          1,
          1,
          1,
          1,
          1,
          1,
          1,
          1,
          1,
          1,
          1,
          1,
          1,
          1,
          1,
          1,
          1,
          1,
          1,
          1,
          1,
          1,
          1,
          1,
          1,
          1,
          1,
          1,
          1,
          1,
          1,
          1,
          1,
          1,
          1,
          1,
          1,
          1,
          1,
          1,
          1,
          1,
          1,
          1,
          1,
          1,
          1,
          1,
          1,
          1,
          1,
          1,
          1,
          1,
          1,
          1,
          1,
          1,
          1,
          1,
          1,
          1,
          1,
          1,
          1,
          1,
          1,
          1,
          1,
          1,
          1,
          1,
          1,
          1,
          1,
          1,
          1,
          1,
          1,
          1,
          1,
          1,
          1,
          1,
          1,
          1,
          1,
          1,
          1,
          1,
          1,
          1,
          1,
          1,
          1
         ]
        },
        {
         "marker": {
          "color": "#cccccc"
         },
         "mode": "markers",
         "name": "Infeasible Trial",
         "showlegend": false,
         "type": "scatter",
         "x": [],
         "y": []
        }
       ],
       "layout": {
        "template": {
         "data": {
          "bar": [
           {
            "error_x": {
             "color": "#2a3f5f"
            },
            "error_y": {
             "color": "#2a3f5f"
            },
            "marker": {
             "line": {
              "color": "#E5ECF6",
              "width": 0.5
             },
             "pattern": {
              "fillmode": "overlay",
              "size": 10,
              "solidity": 0.2
             }
            },
            "type": "bar"
           }
          ],
          "barpolar": [
           {
            "marker": {
             "line": {
              "color": "#E5ECF6",
              "width": 0.5
             },
             "pattern": {
              "fillmode": "overlay",
              "size": 10,
              "solidity": 0.2
             }
            },
            "type": "barpolar"
           }
          ],
          "carpet": [
           {
            "aaxis": {
             "endlinecolor": "#2a3f5f",
             "gridcolor": "white",
             "linecolor": "white",
             "minorgridcolor": "white",
             "startlinecolor": "#2a3f5f"
            },
            "baxis": {
             "endlinecolor": "#2a3f5f",
             "gridcolor": "white",
             "linecolor": "white",
             "minorgridcolor": "white",
             "startlinecolor": "#2a3f5f"
            },
            "type": "carpet"
           }
          ],
          "choropleth": [
           {
            "colorbar": {
             "outlinewidth": 0,
             "ticks": ""
            },
            "type": "choropleth"
           }
          ],
          "contour": [
           {
            "colorbar": {
             "outlinewidth": 0,
             "ticks": ""
            },
            "colorscale": [
             [
              0,
              "#0d0887"
             ],
             [
              0.1111111111111111,
              "#46039f"
             ],
             [
              0.2222222222222222,
              "#7201a8"
             ],
             [
              0.3333333333333333,
              "#9c179e"
             ],
             [
              0.4444444444444444,
              "#bd3786"
             ],
             [
              0.5555555555555556,
              "#d8576b"
             ],
             [
              0.6666666666666666,
              "#ed7953"
             ],
             [
              0.7777777777777778,
              "#fb9f3a"
             ],
             [
              0.8888888888888888,
              "#fdca26"
             ],
             [
              1,
              "#f0f921"
             ]
            ],
            "type": "contour"
           }
          ],
          "contourcarpet": [
           {
            "colorbar": {
             "outlinewidth": 0,
             "ticks": ""
            },
            "type": "contourcarpet"
           }
          ],
          "heatmap": [
           {
            "colorbar": {
             "outlinewidth": 0,
             "ticks": ""
            },
            "colorscale": [
             [
              0,
              "#0d0887"
             ],
             [
              0.1111111111111111,
              "#46039f"
             ],
             [
              0.2222222222222222,
              "#7201a8"
             ],
             [
              0.3333333333333333,
              "#9c179e"
             ],
             [
              0.4444444444444444,
              "#bd3786"
             ],
             [
              0.5555555555555556,
              "#d8576b"
             ],
             [
              0.6666666666666666,
              "#ed7953"
             ],
             [
              0.7777777777777778,
              "#fb9f3a"
             ],
             [
              0.8888888888888888,
              "#fdca26"
             ],
             [
              1,
              "#f0f921"
             ]
            ],
            "type": "heatmap"
           }
          ],
          "heatmapgl": [
           {
            "colorbar": {
             "outlinewidth": 0,
             "ticks": ""
            },
            "colorscale": [
             [
              0,
              "#0d0887"
             ],
             [
              0.1111111111111111,
              "#46039f"
             ],
             [
              0.2222222222222222,
              "#7201a8"
             ],
             [
              0.3333333333333333,
              "#9c179e"
             ],
             [
              0.4444444444444444,
              "#bd3786"
             ],
             [
              0.5555555555555556,
              "#d8576b"
             ],
             [
              0.6666666666666666,
              "#ed7953"
             ],
             [
              0.7777777777777778,
              "#fb9f3a"
             ],
             [
              0.8888888888888888,
              "#fdca26"
             ],
             [
              1,
              "#f0f921"
             ]
            ],
            "type": "heatmapgl"
           }
          ],
          "histogram": [
           {
            "marker": {
             "pattern": {
              "fillmode": "overlay",
              "size": 10,
              "solidity": 0.2
             }
            },
            "type": "histogram"
           }
          ],
          "histogram2d": [
           {
            "colorbar": {
             "outlinewidth": 0,
             "ticks": ""
            },
            "colorscale": [
             [
              0,
              "#0d0887"
             ],
             [
              0.1111111111111111,
              "#46039f"
             ],
             [
              0.2222222222222222,
              "#7201a8"
             ],
             [
              0.3333333333333333,
              "#9c179e"
             ],
             [
              0.4444444444444444,
              "#bd3786"
             ],
             [
              0.5555555555555556,
              "#d8576b"
             ],
             [
              0.6666666666666666,
              "#ed7953"
             ],
             [
              0.7777777777777778,
              "#fb9f3a"
             ],
             [
              0.8888888888888888,
              "#fdca26"
             ],
             [
              1,
              "#f0f921"
             ]
            ],
            "type": "histogram2d"
           }
          ],
          "histogram2dcontour": [
           {
            "colorbar": {
             "outlinewidth": 0,
             "ticks": ""
            },
            "colorscale": [
             [
              0,
              "#0d0887"
             ],
             [
              0.1111111111111111,
              "#46039f"
             ],
             [
              0.2222222222222222,
              "#7201a8"
             ],
             [
              0.3333333333333333,
              "#9c179e"
             ],
             [
              0.4444444444444444,
              "#bd3786"
             ],
             [
              0.5555555555555556,
              "#d8576b"
             ],
             [
              0.6666666666666666,
              "#ed7953"
             ],
             [
              0.7777777777777778,
              "#fb9f3a"
             ],
             [
              0.8888888888888888,
              "#fdca26"
             ],
             [
              1,
              "#f0f921"
             ]
            ],
            "type": "histogram2dcontour"
           }
          ],
          "mesh3d": [
           {
            "colorbar": {
             "outlinewidth": 0,
             "ticks": ""
            },
            "type": "mesh3d"
           }
          ],
          "parcoords": [
           {
            "line": {
             "colorbar": {
              "outlinewidth": 0,
              "ticks": ""
             }
            },
            "type": "parcoords"
           }
          ],
          "pie": [
           {
            "automargin": true,
            "type": "pie"
           }
          ],
          "scatter": [
           {
            "fillpattern": {
             "fillmode": "overlay",
             "size": 10,
             "solidity": 0.2
            },
            "type": "scatter"
           }
          ],
          "scatter3d": [
           {
            "line": {
             "colorbar": {
              "outlinewidth": 0,
              "ticks": ""
             }
            },
            "marker": {
             "colorbar": {
              "outlinewidth": 0,
              "ticks": ""
             }
            },
            "type": "scatter3d"
           }
          ],
          "scattercarpet": [
           {
            "marker": {
             "colorbar": {
              "outlinewidth": 0,
              "ticks": ""
             }
            },
            "type": "scattercarpet"
           }
          ],
          "scattergeo": [
           {
            "marker": {
             "colorbar": {
              "outlinewidth": 0,
              "ticks": ""
             }
            },
            "type": "scattergeo"
           }
          ],
          "scattergl": [
           {
            "marker": {
             "colorbar": {
              "outlinewidth": 0,
              "ticks": ""
             }
            },
            "type": "scattergl"
           }
          ],
          "scattermapbox": [
           {
            "marker": {
             "colorbar": {
              "outlinewidth": 0,
              "ticks": ""
             }
            },
            "type": "scattermapbox"
           }
          ],
          "scatterpolar": [
           {
            "marker": {
             "colorbar": {
              "outlinewidth": 0,
              "ticks": ""
             }
            },
            "type": "scatterpolar"
           }
          ],
          "scatterpolargl": [
           {
            "marker": {
             "colorbar": {
              "outlinewidth": 0,
              "ticks": ""
             }
            },
            "type": "scatterpolargl"
           }
          ],
          "scatterternary": [
           {
            "marker": {
             "colorbar": {
              "outlinewidth": 0,
              "ticks": ""
             }
            },
            "type": "scatterternary"
           }
          ],
          "surface": [
           {
            "colorbar": {
             "outlinewidth": 0,
             "ticks": ""
            },
            "colorscale": [
             [
              0,
              "#0d0887"
             ],
             [
              0.1111111111111111,
              "#46039f"
             ],
             [
              0.2222222222222222,
              "#7201a8"
             ],
             [
              0.3333333333333333,
              "#9c179e"
             ],
             [
              0.4444444444444444,
              "#bd3786"
             ],
             [
              0.5555555555555556,
              "#d8576b"
             ],
             [
              0.6666666666666666,
              "#ed7953"
             ],
             [
              0.7777777777777778,
              "#fb9f3a"
             ],
             [
              0.8888888888888888,
              "#fdca26"
             ],
             [
              1,
              "#f0f921"
             ]
            ],
            "type": "surface"
           }
          ],
          "table": [
           {
            "cells": {
             "fill": {
              "color": "#EBF0F8"
             },
             "line": {
              "color": "white"
             }
            },
            "header": {
             "fill": {
              "color": "#C8D4E3"
             },
             "line": {
              "color": "white"
             }
            },
            "type": "table"
           }
          ]
         },
         "layout": {
          "annotationdefaults": {
           "arrowcolor": "#2a3f5f",
           "arrowhead": 0,
           "arrowwidth": 1
          },
          "autotypenumbers": "strict",
          "coloraxis": {
           "colorbar": {
            "outlinewidth": 0,
            "ticks": ""
           }
          },
          "colorscale": {
           "diverging": [
            [
             0,
             "#8e0152"
            ],
            [
             0.1,
             "#c51b7d"
            ],
            [
             0.2,
             "#de77ae"
            ],
            [
             0.3,
             "#f1b6da"
            ],
            [
             0.4,
             "#fde0ef"
            ],
            [
             0.5,
             "#f7f7f7"
            ],
            [
             0.6,
             "#e6f5d0"
            ],
            [
             0.7,
             "#b8e186"
            ],
            [
             0.8,
             "#7fbc41"
            ],
            [
             0.9,
             "#4d9221"
            ],
            [
             1,
             "#276419"
            ]
           ],
           "sequential": [
            [
             0,
             "#0d0887"
            ],
            [
             0.1111111111111111,
             "#46039f"
            ],
            [
             0.2222222222222222,
             "#7201a8"
            ],
            [
             0.3333333333333333,
             "#9c179e"
            ],
            [
             0.4444444444444444,
             "#bd3786"
            ],
            [
             0.5555555555555556,
             "#d8576b"
            ],
            [
             0.6666666666666666,
             "#ed7953"
            ],
            [
             0.7777777777777778,
             "#fb9f3a"
            ],
            [
             0.8888888888888888,
             "#fdca26"
            ],
            [
             1,
             "#f0f921"
            ]
           ],
           "sequentialminus": [
            [
             0,
             "#0d0887"
            ],
            [
             0.1111111111111111,
             "#46039f"
            ],
            [
             0.2222222222222222,
             "#7201a8"
            ],
            [
             0.3333333333333333,
             "#9c179e"
            ],
            [
             0.4444444444444444,
             "#bd3786"
            ],
            [
             0.5555555555555556,
             "#d8576b"
            ],
            [
             0.6666666666666666,
             "#ed7953"
            ],
            [
             0.7777777777777778,
             "#fb9f3a"
            ],
            [
             0.8888888888888888,
             "#fdca26"
            ],
            [
             1,
             "#f0f921"
            ]
           ]
          },
          "colorway": [
           "#636efa",
           "#EF553B",
           "#00cc96",
           "#ab63fa",
           "#FFA15A",
           "#19d3f3",
           "#FF6692",
           "#B6E880",
           "#FF97FF",
           "#FECB52"
          ],
          "font": {
           "color": "#2a3f5f"
          },
          "geo": {
           "bgcolor": "white",
           "lakecolor": "white",
           "landcolor": "#E5ECF6",
           "showlakes": true,
           "showland": true,
           "subunitcolor": "white"
          },
          "hoverlabel": {
           "align": "left"
          },
          "hovermode": "closest",
          "mapbox": {
           "style": "light"
          },
          "paper_bgcolor": "white",
          "plot_bgcolor": "#E5ECF6",
          "polar": {
           "angularaxis": {
            "gridcolor": "white",
            "linecolor": "white",
            "ticks": ""
           },
           "bgcolor": "#E5ECF6",
           "radialaxis": {
            "gridcolor": "white",
            "linecolor": "white",
            "ticks": ""
           }
          },
          "scene": {
           "xaxis": {
            "backgroundcolor": "#E5ECF6",
            "gridcolor": "white",
            "gridwidth": 2,
            "linecolor": "white",
            "showbackground": true,
            "ticks": "",
            "zerolinecolor": "white"
           },
           "yaxis": {
            "backgroundcolor": "#E5ECF6",
            "gridcolor": "white",
            "gridwidth": 2,
            "linecolor": "white",
            "showbackground": true,
            "ticks": "",
            "zerolinecolor": "white"
           },
           "zaxis": {
            "backgroundcolor": "#E5ECF6",
            "gridcolor": "white",
            "gridwidth": 2,
            "linecolor": "white",
            "showbackground": true,
            "ticks": "",
            "zerolinecolor": "white"
           }
          },
          "shapedefaults": {
           "line": {
            "color": "#2a3f5f"
           }
          },
          "ternary": {
           "aaxis": {
            "gridcolor": "white",
            "linecolor": "white",
            "ticks": ""
           },
           "baxis": {
            "gridcolor": "white",
            "linecolor": "white",
            "ticks": ""
           },
           "bgcolor": "#E5ECF6",
           "caxis": {
            "gridcolor": "white",
            "linecolor": "white",
            "ticks": ""
           }
          },
          "title": {
           "x": 0.05
          },
          "xaxis": {
           "automargin": true,
           "gridcolor": "white",
           "linecolor": "white",
           "ticks": "",
           "title": {
            "standoff": 15
           },
           "zerolinecolor": "white",
           "zerolinewidth": 2
          },
          "yaxis": {
           "automargin": true,
           "gridcolor": "white",
           "linecolor": "white",
           "ticks": "",
           "title": {
            "standoff": 15
           },
           "zerolinecolor": "white",
           "zerolinewidth": 2
          }
         }
        },
        "title": {
         "text": "Optimization History Plot"
        },
        "xaxis": {
         "title": {
          "text": "Trial"
         }
        },
        "yaxis": {
         "title": {
          "text": "Objective Value"
         }
        }
       }
      }
     },
     "metadata": {},
     "output_type": "display_data"
    },
    {
     "data": {
      "application/vnd.plotly.v1+json": {
       "config": {
        "plotlyServerURL": "https://plot.ly"
       },
       "data": [
        {
         "cliponaxis": false,
         "hovertemplate": [
          "penalty (CategoricalDistribution): 0.0<extra></extra>",
          "C (FloatDistribution): 0.00012975314650699726<extra></extra>",
          "max_iter (IntDistribution): 0.0042518745197385206<extra></extra>",
          "solver (CategoricalDistribution): 0.9956183723337545<extra></extra>"
         ],
         "name": "Objective Value",
         "orientation": "h",
         "text": [
          "<0.01",
          "<0.01",
          "<0.01",
          "1.00"
         ],
         "textposition": "outside",
         "type": "bar",
         "x": [
          0,
          0.00012975314650699726,
          0.0042518745197385206,
          0.9956183723337545
         ],
         "y": [
          "penalty",
          "C",
          "max_iter",
          "solver"
         ]
        }
       ],
       "layout": {
        "template": {
         "data": {
          "bar": [
           {
            "error_x": {
             "color": "#2a3f5f"
            },
            "error_y": {
             "color": "#2a3f5f"
            },
            "marker": {
             "line": {
              "color": "#E5ECF6",
              "width": 0.5
             },
             "pattern": {
              "fillmode": "overlay",
              "size": 10,
              "solidity": 0.2
             }
            },
            "type": "bar"
           }
          ],
          "barpolar": [
           {
            "marker": {
             "line": {
              "color": "#E5ECF6",
              "width": 0.5
             },
             "pattern": {
              "fillmode": "overlay",
              "size": 10,
              "solidity": 0.2
             }
            },
            "type": "barpolar"
           }
          ],
          "carpet": [
           {
            "aaxis": {
             "endlinecolor": "#2a3f5f",
             "gridcolor": "white",
             "linecolor": "white",
             "minorgridcolor": "white",
             "startlinecolor": "#2a3f5f"
            },
            "baxis": {
             "endlinecolor": "#2a3f5f",
             "gridcolor": "white",
             "linecolor": "white",
             "minorgridcolor": "white",
             "startlinecolor": "#2a3f5f"
            },
            "type": "carpet"
           }
          ],
          "choropleth": [
           {
            "colorbar": {
             "outlinewidth": 0,
             "ticks": ""
            },
            "type": "choropleth"
           }
          ],
          "contour": [
           {
            "colorbar": {
             "outlinewidth": 0,
             "ticks": ""
            },
            "colorscale": [
             [
              0,
              "#0d0887"
             ],
             [
              0.1111111111111111,
              "#46039f"
             ],
             [
              0.2222222222222222,
              "#7201a8"
             ],
             [
              0.3333333333333333,
              "#9c179e"
             ],
             [
              0.4444444444444444,
              "#bd3786"
             ],
             [
              0.5555555555555556,
              "#d8576b"
             ],
             [
              0.6666666666666666,
              "#ed7953"
             ],
             [
              0.7777777777777778,
              "#fb9f3a"
             ],
             [
              0.8888888888888888,
              "#fdca26"
             ],
             [
              1,
              "#f0f921"
             ]
            ],
            "type": "contour"
           }
          ],
          "contourcarpet": [
           {
            "colorbar": {
             "outlinewidth": 0,
             "ticks": ""
            },
            "type": "contourcarpet"
           }
          ],
          "heatmap": [
           {
            "colorbar": {
             "outlinewidth": 0,
             "ticks": ""
            },
            "colorscale": [
             [
              0,
              "#0d0887"
             ],
             [
              0.1111111111111111,
              "#46039f"
             ],
             [
              0.2222222222222222,
              "#7201a8"
             ],
             [
              0.3333333333333333,
              "#9c179e"
             ],
             [
              0.4444444444444444,
              "#bd3786"
             ],
             [
              0.5555555555555556,
              "#d8576b"
             ],
             [
              0.6666666666666666,
              "#ed7953"
             ],
             [
              0.7777777777777778,
              "#fb9f3a"
             ],
             [
              0.8888888888888888,
              "#fdca26"
             ],
             [
              1,
              "#f0f921"
             ]
            ],
            "type": "heatmap"
           }
          ],
          "heatmapgl": [
           {
            "colorbar": {
             "outlinewidth": 0,
             "ticks": ""
            },
            "colorscale": [
             [
              0,
              "#0d0887"
             ],
             [
              0.1111111111111111,
              "#46039f"
             ],
             [
              0.2222222222222222,
              "#7201a8"
             ],
             [
              0.3333333333333333,
              "#9c179e"
             ],
             [
              0.4444444444444444,
              "#bd3786"
             ],
             [
              0.5555555555555556,
              "#d8576b"
             ],
             [
              0.6666666666666666,
              "#ed7953"
             ],
             [
              0.7777777777777778,
              "#fb9f3a"
             ],
             [
              0.8888888888888888,
              "#fdca26"
             ],
             [
              1,
              "#f0f921"
             ]
            ],
            "type": "heatmapgl"
           }
          ],
          "histogram": [
           {
            "marker": {
             "pattern": {
              "fillmode": "overlay",
              "size": 10,
              "solidity": 0.2
             }
            },
            "type": "histogram"
           }
          ],
          "histogram2d": [
           {
            "colorbar": {
             "outlinewidth": 0,
             "ticks": ""
            },
            "colorscale": [
             [
              0,
              "#0d0887"
             ],
             [
              0.1111111111111111,
              "#46039f"
             ],
             [
              0.2222222222222222,
              "#7201a8"
             ],
             [
              0.3333333333333333,
              "#9c179e"
             ],
             [
              0.4444444444444444,
              "#bd3786"
             ],
             [
              0.5555555555555556,
              "#d8576b"
             ],
             [
              0.6666666666666666,
              "#ed7953"
             ],
             [
              0.7777777777777778,
              "#fb9f3a"
             ],
             [
              0.8888888888888888,
              "#fdca26"
             ],
             [
              1,
              "#f0f921"
             ]
            ],
            "type": "histogram2d"
           }
          ],
          "histogram2dcontour": [
           {
            "colorbar": {
             "outlinewidth": 0,
             "ticks": ""
            },
            "colorscale": [
             [
              0,
              "#0d0887"
             ],
             [
              0.1111111111111111,
              "#46039f"
             ],
             [
              0.2222222222222222,
              "#7201a8"
             ],
             [
              0.3333333333333333,
              "#9c179e"
             ],
             [
              0.4444444444444444,
              "#bd3786"
             ],
             [
              0.5555555555555556,
              "#d8576b"
             ],
             [
              0.6666666666666666,
              "#ed7953"
             ],
             [
              0.7777777777777778,
              "#fb9f3a"
             ],
             [
              0.8888888888888888,
              "#fdca26"
             ],
             [
              1,
              "#f0f921"
             ]
            ],
            "type": "histogram2dcontour"
           }
          ],
          "mesh3d": [
           {
            "colorbar": {
             "outlinewidth": 0,
             "ticks": ""
            },
            "type": "mesh3d"
           }
          ],
          "parcoords": [
           {
            "line": {
             "colorbar": {
              "outlinewidth": 0,
              "ticks": ""
             }
            },
            "type": "parcoords"
           }
          ],
          "pie": [
           {
            "automargin": true,
            "type": "pie"
           }
          ],
          "scatter": [
           {
            "fillpattern": {
             "fillmode": "overlay",
             "size": 10,
             "solidity": 0.2
            },
            "type": "scatter"
           }
          ],
          "scatter3d": [
           {
            "line": {
             "colorbar": {
              "outlinewidth": 0,
              "ticks": ""
             }
            },
            "marker": {
             "colorbar": {
              "outlinewidth": 0,
              "ticks": ""
             }
            },
            "type": "scatter3d"
           }
          ],
          "scattercarpet": [
           {
            "marker": {
             "colorbar": {
              "outlinewidth": 0,
              "ticks": ""
             }
            },
            "type": "scattercarpet"
           }
          ],
          "scattergeo": [
           {
            "marker": {
             "colorbar": {
              "outlinewidth": 0,
              "ticks": ""
             }
            },
            "type": "scattergeo"
           }
          ],
          "scattergl": [
           {
            "marker": {
             "colorbar": {
              "outlinewidth": 0,
              "ticks": ""
             }
            },
            "type": "scattergl"
           }
          ],
          "scattermapbox": [
           {
            "marker": {
             "colorbar": {
              "outlinewidth": 0,
              "ticks": ""
             }
            },
            "type": "scattermapbox"
           }
          ],
          "scatterpolar": [
           {
            "marker": {
             "colorbar": {
              "outlinewidth": 0,
              "ticks": ""
             }
            },
            "type": "scatterpolar"
           }
          ],
          "scatterpolargl": [
           {
            "marker": {
             "colorbar": {
              "outlinewidth": 0,
              "ticks": ""
             }
            },
            "type": "scatterpolargl"
           }
          ],
          "scatterternary": [
           {
            "marker": {
             "colorbar": {
              "outlinewidth": 0,
              "ticks": ""
             }
            },
            "type": "scatterternary"
           }
          ],
          "surface": [
           {
            "colorbar": {
             "outlinewidth": 0,
             "ticks": ""
            },
            "colorscale": [
             [
              0,
              "#0d0887"
             ],
             [
              0.1111111111111111,
              "#46039f"
             ],
             [
              0.2222222222222222,
              "#7201a8"
             ],
             [
              0.3333333333333333,
              "#9c179e"
             ],
             [
              0.4444444444444444,
              "#bd3786"
             ],
             [
              0.5555555555555556,
              "#d8576b"
             ],
             [
              0.6666666666666666,
              "#ed7953"
             ],
             [
              0.7777777777777778,
              "#fb9f3a"
             ],
             [
              0.8888888888888888,
              "#fdca26"
             ],
             [
              1,
              "#f0f921"
             ]
            ],
            "type": "surface"
           }
          ],
          "table": [
           {
            "cells": {
             "fill": {
              "color": "#EBF0F8"
             },
             "line": {
              "color": "white"
             }
            },
            "header": {
             "fill": {
              "color": "#C8D4E3"
             },
             "line": {
              "color": "white"
             }
            },
            "type": "table"
           }
          ]
         },
         "layout": {
          "annotationdefaults": {
           "arrowcolor": "#2a3f5f",
           "arrowhead": 0,
           "arrowwidth": 1
          },
          "autotypenumbers": "strict",
          "coloraxis": {
           "colorbar": {
            "outlinewidth": 0,
            "ticks": ""
           }
          },
          "colorscale": {
           "diverging": [
            [
             0,
             "#8e0152"
            ],
            [
             0.1,
             "#c51b7d"
            ],
            [
             0.2,
             "#de77ae"
            ],
            [
             0.3,
             "#f1b6da"
            ],
            [
             0.4,
             "#fde0ef"
            ],
            [
             0.5,
             "#f7f7f7"
            ],
            [
             0.6,
             "#e6f5d0"
            ],
            [
             0.7,
             "#b8e186"
            ],
            [
             0.8,
             "#7fbc41"
            ],
            [
             0.9,
             "#4d9221"
            ],
            [
             1,
             "#276419"
            ]
           ],
           "sequential": [
            [
             0,
             "#0d0887"
            ],
            [
             0.1111111111111111,
             "#46039f"
            ],
            [
             0.2222222222222222,
             "#7201a8"
            ],
            [
             0.3333333333333333,
             "#9c179e"
            ],
            [
             0.4444444444444444,
             "#bd3786"
            ],
            [
             0.5555555555555556,
             "#d8576b"
            ],
            [
             0.6666666666666666,
             "#ed7953"
            ],
            [
             0.7777777777777778,
             "#fb9f3a"
            ],
            [
             0.8888888888888888,
             "#fdca26"
            ],
            [
             1,
             "#f0f921"
            ]
           ],
           "sequentialminus": [
            [
             0,
             "#0d0887"
            ],
            [
             0.1111111111111111,
             "#46039f"
            ],
            [
             0.2222222222222222,
             "#7201a8"
            ],
            [
             0.3333333333333333,
             "#9c179e"
            ],
            [
             0.4444444444444444,
             "#bd3786"
            ],
            [
             0.5555555555555556,
             "#d8576b"
            ],
            [
             0.6666666666666666,
             "#ed7953"
            ],
            [
             0.7777777777777778,
             "#fb9f3a"
            ],
            [
             0.8888888888888888,
             "#fdca26"
            ],
            [
             1,
             "#f0f921"
            ]
           ]
          },
          "colorway": [
           "#636efa",
           "#EF553B",
           "#00cc96",
           "#ab63fa",
           "#FFA15A",
           "#19d3f3",
           "#FF6692",
           "#B6E880",
           "#FF97FF",
           "#FECB52"
          ],
          "font": {
           "color": "#2a3f5f"
          },
          "geo": {
           "bgcolor": "white",
           "lakecolor": "white",
           "landcolor": "#E5ECF6",
           "showlakes": true,
           "showland": true,
           "subunitcolor": "white"
          },
          "hoverlabel": {
           "align": "left"
          },
          "hovermode": "closest",
          "mapbox": {
           "style": "light"
          },
          "paper_bgcolor": "white",
          "plot_bgcolor": "#E5ECF6",
          "polar": {
           "angularaxis": {
            "gridcolor": "white",
            "linecolor": "white",
            "ticks": ""
           },
           "bgcolor": "#E5ECF6",
           "radialaxis": {
            "gridcolor": "white",
            "linecolor": "white",
            "ticks": ""
           }
          },
          "scene": {
           "xaxis": {
            "backgroundcolor": "#E5ECF6",
            "gridcolor": "white",
            "gridwidth": 2,
            "linecolor": "white",
            "showbackground": true,
            "ticks": "",
            "zerolinecolor": "white"
           },
           "yaxis": {
            "backgroundcolor": "#E5ECF6",
            "gridcolor": "white",
            "gridwidth": 2,
            "linecolor": "white",
            "showbackground": true,
            "ticks": "",
            "zerolinecolor": "white"
           },
           "zaxis": {
            "backgroundcolor": "#E5ECF6",
            "gridcolor": "white",
            "gridwidth": 2,
            "linecolor": "white",
            "showbackground": true,
            "ticks": "",
            "zerolinecolor": "white"
           }
          },
          "shapedefaults": {
           "line": {
            "color": "#2a3f5f"
           }
          },
          "ternary": {
           "aaxis": {
            "gridcolor": "white",
            "linecolor": "white",
            "ticks": ""
           },
           "baxis": {
            "gridcolor": "white",
            "linecolor": "white",
            "ticks": ""
           },
           "bgcolor": "#E5ECF6",
           "caxis": {
            "gridcolor": "white",
            "linecolor": "white",
            "ticks": ""
           }
          },
          "title": {
           "x": 0.05
          },
          "xaxis": {
           "automargin": true,
           "gridcolor": "white",
           "linecolor": "white",
           "ticks": "",
           "title": {
            "standoff": 15
           },
           "zerolinecolor": "white",
           "zerolinewidth": 2
          },
          "yaxis": {
           "automargin": true,
           "gridcolor": "white",
           "linecolor": "white",
           "ticks": "",
           "title": {
            "standoff": 15
           },
           "zerolinecolor": "white",
           "zerolinewidth": 2
          }
         }
        },
        "title": {
         "text": "Hyperparameter Importances"
        },
        "xaxis": {
         "title": {
          "text": "Hyperparameter Importance"
         }
        },
        "yaxis": {
         "title": {
          "text": "Hyperparameter"
         }
        }
       }
      }
     },
     "metadata": {},
     "output_type": "display_data"
    }
   ],
   "source": [
    "# Visualizar historial de optimización\n",
    "fig_lr = plot_optimization_history(study_lr)\n",
    "fig_lr.show()\n",
    "\n",
    "# Visualizar importancia de hiperparámetros\n",
    "fig_lr_param = plot_param_importances(study_lr)\n",
    "fig_lr_param.show()"
   ]
  },
  {
   "cell_type": "markdown",
   "metadata": {},
   "source": [
    "`Interpretacion:` \n",
    "1. **Historial de Optimización**\n",
    "Esta estabilidad del valor objetivo en las iteraciones finales indica que el espacio de búsqueda de hiperparámetros estaba bien definido y permitió encontrar una solución efectiva con rapidez. Sin embargo, también sugiere que podría no ser necesario realizar tantas iteraciones en futuras optimizaciones, lo que ahorraría tiempo computacional.\n",
    "\n",
    "1. **Importancia de los Hiperparámetros**\n",
    "La gráfica de importancia de los hiperparámetros revela que el parámetro solver es, con diferencia, el más influyente en el desempeño del modelo, con una importancia del 94%. Esto significa que el método de optimización seleccionado para entrenar el modelo tiene un impacto crítico en su capacidad para clasificar correctamente los datos. Por otro lado, los hiperparámetros max_iter y C presentan una importancia significativamente menor, de apenas 3% cada uno, lo cual sugiere que el modelo no es particularmente sensible a estos valores en el rango probado durante la optimización.\n",
    "\n",
    "Estos resultados destacan la necesidad de enfocar los esfuerzos de ajuste en el solver para maximizar el desempeño del modelo. Sin embargo, es importante no descartar completamente los otros hiperparámetros, ya que pueden tener un impacto más significativo en contextos o datasets diferentes. Además, se recomienda revisar si las opciones probadas para solver abarcan toda la variedad de métodos aplicables a este problema específico, ya que podría haber alternativas aún más eficaces."
   ]
  },
  {
   "cell_type": "markdown",
   "metadata": {},
   "source": [
    "## Optimization for Random Forest"
   ]
  },
  {
   "cell_type": "code",
   "execution_count": 111,
   "metadata": {},
   "outputs": [
    {
     "name": "stderr",
     "output_type": "stream",
     "text": [
      "[I 2024-11-26 16:25:35,440] A new study created in memory with name: Random Forest\n",
      "[I 2024-11-26 16:25:35,458] Trial 0 finished with value: 1.0 and parameters: {'n_estimators': 6, 'max_depth': 10, 'min_samples_split': 3, 'min_samples_leaf': 6, 'bootstrap': False, 'criterion': 'log_loss', 'class_weight': 'balanced'}. Best is trial 0 with value: 1.0.\n",
      "[I 2024-11-26 16:25:35,473] Trial 1 finished with value: 1.0 and parameters: {'n_estimators': 4, 'max_depth': 3, 'min_samples_split': 10, 'min_samples_leaf': 5, 'bootstrap': False, 'criterion': 'log_loss', 'class_weight': 'balanced_subsample'}. Best is trial 0 with value: 1.0.\n",
      "[I 2024-11-26 16:25:35,493] Trial 2 finished with value: 1.0 and parameters: {'n_estimators': 12, 'max_depth': 9, 'min_samples_split': 8, 'min_samples_leaf': 6, 'bootstrap': False, 'criterion': 'entropy', 'class_weight': 'balanced_subsample'}. Best is trial 0 with value: 1.0.\n",
      "[I 2024-11-26 16:25:35,520] Trial 3 finished with value: 1.0 and parameters: {'n_estimators': 15, 'max_depth': 8, 'min_samples_split': 4, 'min_samples_leaf': 10, 'bootstrap': False, 'criterion': 'log_loss', 'class_weight': 'balanced'}. Best is trial 0 with value: 1.0.\n",
      "[I 2024-11-26 16:25:35,541] Trial 4 finished with value: 1.0 and parameters: {'n_estimators': 9, 'max_depth': 9, 'min_samples_split': 9, 'min_samples_leaf': 6, 'bootstrap': True, 'criterion': 'entropy', 'class_weight': 'balanced_subsample'}. Best is trial 0 with value: 1.0.\n",
      "[I 2024-11-26 16:25:35,559] Trial 5 finished with value: 1.0 and parameters: {'n_estimators': 10, 'max_depth': 3, 'min_samples_split': 3, 'min_samples_leaf': 8, 'bootstrap': True, 'criterion': 'entropy', 'class_weight': 'balanced'}. Best is trial 0 with value: 1.0.\n",
      "[I 2024-11-26 16:25:35,568] Trial 6 finished with value: 1.0 and parameters: {'n_estimators': 1, 'max_depth': 14, 'min_samples_split': 9, 'min_samples_leaf': 5, 'bootstrap': True, 'criterion': 'log_loss', 'class_weight': 'balanced'}. Best is trial 0 with value: 1.0.\n",
      "[I 2024-11-26 16:25:35,586] Trial 7 finished with value: 1.0 and parameters: {'n_estimators': 11, 'max_depth': 2, 'min_samples_split': 7, 'min_samples_leaf': 2, 'bootstrap': True, 'criterion': 'log_loss', 'class_weight': 'balanced'}. Best is trial 0 with value: 1.0.\n",
      "[I 2024-11-26 16:25:35,606] Trial 8 finished with value: 1.0 and parameters: {'n_estimators': 9, 'max_depth': 10, 'min_samples_split': 4, 'min_samples_leaf': 5, 'bootstrap': True, 'criterion': 'log_loss', 'class_weight': 'balanced_subsample'}. Best is trial 0 with value: 1.0.\n",
      "[I 2024-11-26 16:25:35,627] Trial 9 finished with value: 1.0 and parameters: {'n_estimators': 9, 'max_depth': 6, 'min_samples_split': 10, 'min_samples_leaf': 3, 'bootstrap': True, 'criterion': 'log_loss', 'class_weight': 'balanced_subsample'}. Best is trial 0 with value: 1.0.\n",
      "[I 2024-11-26 16:25:35,655] Trial 10 finished with value: 1.0 and parameters: {'n_estimators': 5, 'max_depth': 14, 'min_samples_split': 5, 'min_samples_leaf': 8, 'bootstrap': False, 'criterion': 'entropy', 'class_weight': 'balanced'}. Best is trial 0 with value: 1.0.\n",
      "[I 2024-11-26 16:25:35,704] Trial 11 finished with value: 1.0 and parameters: {'n_estimators': 5, 'max_depth': 5, 'min_samples_split': 6, 'min_samples_leaf': 4, 'bootstrap': False, 'criterion': 'log_loss', 'class_weight': 'balanced_subsample'}. Best is trial 0 with value: 1.0.\n",
      "[I 2024-11-26 16:25:35,745] Trial 12 finished with value: 1.0 and parameters: {'n_estimators': 5, 'max_depth': 12, 'min_samples_split': 6, 'min_samples_leaf': 8, 'bootstrap': False, 'criterion': 'log_loss', 'class_weight': 'balanced_subsample'}. Best is trial 0 with value: 1.0.\n",
      "[I 2024-11-26 16:25:35,779] Trial 13 finished with value: 0.9761904761904762 and parameters: {'n_estimators': 2, 'max_depth': 6, 'min_samples_split': 10, 'min_samples_leaf': 7, 'bootstrap': False, 'criterion': 'log_loss', 'class_weight': 'balanced'}. Best is trial 0 with value: 1.0.\n",
      "[I 2024-11-26 16:25:35,807] Trial 14 finished with value: 1.0 and parameters: {'n_estimators': 3, 'max_depth': 11, 'min_samples_split': 3, 'min_samples_leaf': 4, 'bootstrap': False, 'criterion': 'log_loss', 'class_weight': 'balanced'}. Best is trial 0 with value: 1.0.\n",
      "[I 2024-11-26 16:25:35,837] Trial 15 finished with value: 1.0 and parameters: {'n_estimators': 7, 'max_depth': 4, 'min_samples_split': 7, 'min_samples_leaf': 10, 'bootstrap': False, 'criterion': 'log_loss', 'class_weight': 'balanced_subsample'}. Best is trial 0 with value: 1.0.\n",
      "[I 2024-11-26 16:25:35,871] Trial 16 finished with value: 1.0 and parameters: {'n_estimators': 7, 'max_depth': 12, 'min_samples_split': 8, 'min_samples_leaf': 5, 'bootstrap': False, 'criterion': 'log_loss', 'class_weight': 'balanced_subsample'}. Best is trial 0 with value: 1.0.\n",
      "[I 2024-11-26 16:25:35,902] Trial 17 finished with value: 1.0 and parameters: {'n_estimators': 4, 'max_depth': 7, 'min_samples_split': 5, 'min_samples_leaf': 7, 'bootstrap': False, 'criterion': 'log_loss', 'class_weight': 'balanced'}. Best is trial 0 with value: 1.0.\n",
      "[I 2024-11-26 16:25:35,941] Trial 18 finished with value: 1.0 and parameters: {'n_estimators': 7, 'max_depth': 2, 'min_samples_split': 5, 'min_samples_leaf': 2, 'bootstrap': False, 'criterion': 'entropy', 'class_weight': 'balanced_subsample'}. Best is trial 0 with value: 1.0.\n",
      "[I 2024-11-26 16:25:35,977] Trial 19 finished with value: 1.0 and parameters: {'n_estimators': 1, 'max_depth': 15, 'min_samples_split': 8, 'min_samples_leaf': 4, 'bootstrap': False, 'criterion': 'log_loss', 'class_weight': 'balanced'}. Best is trial 0 with value: 1.0.\n",
      "[I 2024-11-26 16:25:36,010] Trial 20 finished with value: 0.9841269841269841 and parameters: {'n_estimators': 3, 'max_depth': 7, 'min_samples_split': 4, 'min_samples_leaf': 7, 'bootstrap': False, 'criterion': 'log_loss', 'class_weight': 'balanced'}. Best is trial 0 with value: 1.0.\n",
      "[I 2024-11-26 16:25:36,051] Trial 21 finished with value: 1.0 and parameters: {'n_estimators': 13, 'max_depth': 9, 'min_samples_split': 9, 'min_samples_leaf': 6, 'bootstrap': False, 'criterion': 'entropy', 'class_weight': 'balanced_subsample'}. Best is trial 0 with value: 1.0.\n",
      "[I 2024-11-26 16:25:36,094] Trial 22 finished with value: 1.0 and parameters: {'n_estimators': 13, 'max_depth': 10, 'min_samples_split': 10, 'min_samples_leaf': 6, 'bootstrap': False, 'criterion': 'entropy', 'class_weight': 'balanced_subsample'}. Best is trial 0 with value: 1.0.\n",
      "[I 2024-11-26 16:25:36,136] Trial 23 finished with value: 1.0 and parameters: {'n_estimators': 12, 'max_depth': 11, 'min_samples_split': 8, 'min_samples_leaf': 5, 'bootstrap': False, 'criterion': 'entropy', 'class_weight': 'balanced_subsample'}. Best is trial 0 with value: 1.0.\n",
      "[I 2024-11-26 16:25:36,168] Trial 24 finished with value: 1.0 and parameters: {'n_estimators': 6, 'max_depth': 8, 'min_samples_split': 9, 'min_samples_leaf': 7, 'bootstrap': False, 'criterion': 'entropy', 'class_weight': 'balanced_subsample'}. Best is trial 0 with value: 1.0.\n",
      "[I 2024-11-26 16:25:36,215] Trial 25 finished with value: 1.0 and parameters: {'n_estimators': 15, 'max_depth': 12, 'min_samples_split': 7, 'min_samples_leaf': 6, 'bootstrap': False, 'criterion': 'entropy', 'class_weight': 'balanced_subsample'}. Best is trial 0 with value: 1.0.\n",
      "[I 2024-11-26 16:25:36,254] Trial 26 finished with value: 1.0 and parameters: {'n_estimators': 8, 'max_depth': 10, 'min_samples_split': 8, 'min_samples_leaf': 9, 'bootstrap': False, 'criterion': 'entropy', 'class_weight': 'balanced_subsample'}. Best is trial 0 with value: 1.0.\n",
      "[I 2024-11-26 16:25:36,295] Trial 27 finished with value: 1.0 and parameters: {'n_estimators': 4, 'max_depth': 5, 'min_samples_split': 6, 'min_samples_leaf': 3, 'bootstrap': False, 'criterion': 'log_loss', 'class_weight': 'balanced_subsample'}. Best is trial 0 with value: 1.0.\n",
      "[I 2024-11-26 16:25:36,331] Trial 28 finished with value: 1.0 and parameters: {'n_estimators': 6, 'max_depth': 7, 'min_samples_split': 10, 'min_samples_leaf': 6, 'bootstrap': False, 'criterion': 'entropy', 'class_weight': 'balanced'}. Best is trial 0 with value: 1.0.\n",
      "[I 2024-11-26 16:25:36,372] Trial 29 finished with value: 1.0 and parameters: {'n_estimators': 14, 'max_depth': 8, 'min_samples_split': 9, 'min_samples_leaf': 4, 'bootstrap': False, 'criterion': 'log_loss', 'class_weight': 'balanced'}. Best is trial 0 with value: 1.0.\n",
      "[I 2024-11-26 16:25:36,410] Trial 30 finished with value: 1.0 and parameters: {'n_estimators': 11, 'max_depth': 9, 'min_samples_split': 3, 'min_samples_leaf': 5, 'bootstrap': False, 'criterion': 'log_loss', 'class_weight': 'balanced_subsample'}. Best is trial 0 with value: 1.0.\n",
      "[I 2024-11-26 16:25:36,452] Trial 31 finished with value: 1.0 and parameters: {'n_estimators': 15, 'max_depth': 8, 'min_samples_split': 4, 'min_samples_leaf': 10, 'bootstrap': False, 'criterion': 'log_loss', 'class_weight': 'balanced'}. Best is trial 0 with value: 1.0.\n",
      "[I 2024-11-26 16:25:36,498] Trial 32 finished with value: 1.0 and parameters: {'n_estimators': 14, 'max_depth': 4, 'min_samples_split': 3, 'min_samples_leaf': 9, 'bootstrap': True, 'criterion': 'log_loss', 'class_weight': 'balanced'}. Best is trial 0 with value: 1.0.\n",
      "[I 2024-11-26 16:25:36,545] Trial 33 finished with value: 1.0 and parameters: {'n_estimators': 10, 'max_depth': 13, 'min_samples_split': 4, 'min_samples_leaf': 7, 'bootstrap': False, 'criterion': 'log_loss', 'class_weight': 'balanced'}. Best is trial 0 with value: 1.0.\n",
      "[I 2024-11-26 16:25:36,593] Trial 34 finished with value: 1.0 and parameters: {'n_estimators': 12, 'max_depth': 9, 'min_samples_split': 3, 'min_samples_leaf': 9, 'bootstrap': True, 'criterion': 'entropy', 'class_weight': 'balanced'}. Best is trial 0 with value: 1.0.\n",
      "[I 2024-11-26 16:25:36,635] Trial 35 finished with value: 1.0 and parameters: {'n_estimators': 14, 'max_depth': 3, 'min_samples_split': 4, 'min_samples_leaf': 5, 'bootstrap': True, 'criterion': 'log_loss', 'class_weight': 'balanced'}. Best is trial 0 with value: 1.0.\n",
      "[I 2024-11-26 16:25:36,674] Trial 36 finished with value: 1.0 and parameters: {'n_estimators': 10, 'max_depth': 11, 'min_samples_split': 5, 'min_samples_leaf': 6, 'bootstrap': False, 'criterion': 'log_loss', 'class_weight': 'balanced'}. Best is trial 0 with value: 1.0.\n",
      "[I 2024-11-26 16:25:36,715] Trial 37 finished with value: 1.0 and parameters: {'n_estimators': 8, 'max_depth': 6, 'min_samples_split': 7, 'min_samples_leaf': 8, 'bootstrap': True, 'criterion': 'log_loss', 'class_weight': 'balanced_subsample'}. Best is trial 0 with value: 1.0.\n",
      "[I 2024-11-26 16:25:36,754] Trial 38 finished with value: 1.0 and parameters: {'n_estimators': 12, 'max_depth': 10, 'min_samples_split': 3, 'min_samples_leaf': 3, 'bootstrap': False, 'criterion': 'entropy', 'class_weight': 'balanced'}. Best is trial 0 with value: 1.0.\n",
      "[I 2024-11-26 16:25:36,787] Trial 39 finished with value: 1.0 and parameters: {'n_estimators': 6, 'max_depth': 3, 'min_samples_split': 9, 'min_samples_leaf': 5, 'bootstrap': False, 'criterion': 'log_loss', 'class_weight': 'balanced_subsample'}. Best is trial 0 with value: 1.0.\n",
      "[I 2024-11-26 16:25:36,821] Trial 40 finished with value: 1.0 and parameters: {'n_estimators': 4, 'max_depth': 13, 'min_samples_split': 8, 'min_samples_leaf': 7, 'bootstrap': True, 'criterion': 'log_loss', 'class_weight': 'balanced'}. Best is trial 0 with value: 1.0.\n",
      "[I 2024-11-26 16:25:36,864] Trial 41 finished with value: 1.0 and parameters: {'n_estimators': 11, 'max_depth': 9, 'min_samples_split': 10, 'min_samples_leaf': 6, 'bootstrap': True, 'criterion': 'entropy', 'class_weight': 'balanced_subsample'}. Best is trial 0 with value: 1.0.\n",
      "[I 2024-11-26 16:25:36,904] Trial 42 finished with value: 1.0 and parameters: {'n_estimators': 9, 'max_depth': 11, 'min_samples_split': 9, 'min_samples_leaf': 6, 'bootstrap': True, 'criterion': 'entropy', 'class_weight': 'balanced_subsample'}. Best is trial 0 with value: 1.0.\n",
      "[I 2024-11-26 16:25:36,939] Trial 43 finished with value: 1.0 and parameters: {'n_estimators': 5, 'max_depth': 10, 'min_samples_split': 9, 'min_samples_leaf': 5, 'bootstrap': True, 'criterion': 'entropy', 'class_weight': 'balanced_subsample'}. Best is trial 0 with value: 1.0.\n",
      "[I 2024-11-26 16:25:36,980] Trial 44 finished with value: 1.0 and parameters: {'n_estimators': 9, 'max_depth': 7, 'min_samples_split': 10, 'min_samples_leaf': 8, 'bootstrap': True, 'criterion': 'entropy', 'class_weight': 'balanced_subsample'}. Best is trial 0 with value: 1.0.\n",
      "[I 2024-11-26 16:25:37,011] Trial 45 finished with value: 0.9920634920634921 and parameters: {'n_estimators': 3, 'max_depth': 8, 'min_samples_split': 10, 'min_samples_leaf': 6, 'bootstrap': False, 'criterion': 'log_loss', 'class_weight': 'balanced_subsample'}. Best is trial 0 with value: 1.0.\n",
      "[I 2024-11-26 16:25:37,058] Trial 46 finished with value: 1.0 and parameters: {'n_estimators': 13, 'max_depth': 6, 'min_samples_split': 6, 'min_samples_leaf': 4, 'bootstrap': True, 'criterion': 'entropy', 'class_weight': 'balanced_subsample'}. Best is trial 0 with value: 1.0.\n",
      "[I 2024-11-26 16:25:37,098] Trial 47 finished with value: 1.0 and parameters: {'n_estimators': 7, 'max_depth': 10, 'min_samples_split': 8, 'min_samples_leaf': 8, 'bootstrap': False, 'criterion': 'log_loss', 'class_weight': 'balanced'}. Best is trial 0 with value: 1.0.\n",
      "[I 2024-11-26 16:25:37,132] Trial 48 finished with value: 1.0 and parameters: {'n_estimators': 1, 'max_depth': 2, 'min_samples_split': 4, 'min_samples_leaf': 7, 'bootstrap': False, 'criterion': 'log_loss', 'class_weight': 'balanced_subsample'}. Best is trial 0 with value: 1.0.\n",
      "[I 2024-11-26 16:25:37,175] Trial 49 finished with value: 1.0 and parameters: {'n_estimators': 8, 'max_depth': 9, 'min_samples_split': 9, 'min_samples_leaf': 4, 'bootstrap': False, 'criterion': 'entropy', 'class_weight': 'balanced'}. Best is trial 0 with value: 1.0.\n",
      "[I 2024-11-26 16:25:37,217] Trial 50 finished with value: 1.0 and parameters: {'n_estimators': 5, 'max_depth': 5, 'min_samples_split': 3, 'min_samples_leaf': 6, 'bootstrap': False, 'criterion': 'log_loss', 'class_weight': 'balanced_subsample'}. Best is trial 0 with value: 1.0.\n",
      "[I 2024-11-26 16:25:37,260] Trial 51 finished with value: 1.0 and parameters: {'n_estimators': 10, 'max_depth': 3, 'min_samples_split': 3, 'min_samples_leaf': 10, 'bootstrap': True, 'criterion': 'entropy', 'class_weight': 'balanced'}. Best is trial 0 with value: 1.0.\n",
      "[I 2024-11-26 16:25:37,308] Trial 52 finished with value: 0.9920634920634921 and parameters: {'n_estimators': 9, 'max_depth': 4, 'min_samples_split': 5, 'min_samples_leaf': 9, 'bootstrap': True, 'criterion': 'entropy', 'class_weight': 'balanced'}. Best is trial 0 with value: 1.0.\n",
      "[I 2024-11-26 16:25:37,353] Trial 53 finished with value: 1.0 and parameters: {'n_estimators': 10, 'max_depth': 2, 'min_samples_split': 4, 'min_samples_leaf': 5, 'bootstrap': True, 'criterion': 'entropy', 'class_weight': 'balanced'}. Best is trial 0 with value: 1.0.\n",
      "[I 2024-11-26 16:25:37,399] Trial 54 finished with value: 1.0 and parameters: {'n_estimators': 11, 'max_depth': 4, 'min_samples_split': 3, 'min_samples_leaf': 8, 'bootstrap': True, 'criterion': 'entropy', 'class_weight': 'balanced'}. Best is trial 0 with value: 1.0.\n",
      "[I 2024-11-26 16:25:37,436] Trial 55 finished with value: 0.9841269841269841 and parameters: {'n_estimators': 2, 'max_depth': 12, 'min_samples_split': 7, 'min_samples_leaf': 10, 'bootstrap': False, 'criterion': 'entropy', 'class_weight': 'balanced'}. Best is trial 0 with value: 1.0.\n",
      "[I 2024-11-26 16:25:37,483] Trial 56 finished with value: 1.0 and parameters: {'n_estimators': 8, 'max_depth': 5, 'min_samples_split': 10, 'min_samples_leaf': 7, 'bootstrap': True, 'criterion': 'log_loss', 'class_weight': 'balanced_subsample'}. Best is trial 0 with value: 1.0.\n",
      "[I 2024-11-26 16:25:37,525] Trial 57 finished with value: 1.0 and parameters: {'n_estimators': 6, 'max_depth': 11, 'min_samples_split': 8, 'min_samples_leaf': 5, 'bootstrap': False, 'criterion': 'entropy', 'class_weight': 'balanced_subsample'}. Best is trial 0 with value: 1.0.\n",
      "[I 2024-11-26 16:25:37,575] Trial 58 finished with value: 1.0 and parameters: {'n_estimators': 12, 'max_depth': 15, 'min_samples_split': 3, 'min_samples_leaf': 7, 'bootstrap': False, 'criterion': 'log_loss', 'class_weight': 'balanced'}. Best is trial 0 with value: 1.0.\n",
      "[I 2024-11-26 16:25:37,613] Trial 59 finished with value: 1.0 and parameters: {'n_estimators': 7, 'max_depth': 6, 'min_samples_split': 4, 'min_samples_leaf': 6, 'bootstrap': False, 'criterion': 'entropy', 'class_weight': 'balanced_subsample'}. Best is trial 0 with value: 1.0.\n",
      "[I 2024-11-26 16:25:37,654] Trial 60 finished with value: 1.0 and parameters: {'n_estimators': 11, 'max_depth': 8, 'min_samples_split': 9, 'min_samples_leaf': 9, 'bootstrap': False, 'criterion': 'log_loss', 'class_weight': 'balanced'}. Best is trial 0 with value: 1.0.\n",
      "[I 2024-11-26 16:25:37,687] Trial 61 finished with value: 1.0 and parameters: {'n_estimators': 1, 'max_depth': 14, 'min_samples_split': 9, 'min_samples_leaf': 5, 'bootstrap': True, 'criterion': 'log_loss', 'class_weight': 'balanced'}. Best is trial 0 with value: 1.0.\n",
      "[I 2024-11-26 16:25:37,721] Trial 62 finished with value: 0.9920634920634921 and parameters: {'n_estimators': 3, 'max_depth': 13, 'min_samples_split': 10, 'min_samples_leaf': 6, 'bootstrap': True, 'criterion': 'log_loss', 'class_weight': 'balanced'}. Best is trial 0 with value: 1.0.\n",
      "[I 2024-11-26 16:25:37,753] Trial 63 finished with value: 0.9841269841269841 and parameters: {'n_estimators': 2, 'max_depth': 3, 'min_samples_split': 8, 'min_samples_leaf': 5, 'bootstrap': True, 'criterion': 'log_loss', 'class_weight': 'balanced'}. Best is trial 0 with value: 1.0.\n",
      "[I 2024-11-26 16:25:37,799] Trial 64 finished with value: 1.0 and parameters: {'n_estimators': 15, 'max_depth': 14, 'min_samples_split': 9, 'min_samples_leaf': 4, 'bootstrap': True, 'criterion': 'log_loss', 'class_weight': 'balanced'}. Best is trial 0 with value: 1.0.\n",
      "[I 2024-11-26 16:25:37,843] Trial 65 finished with value: 1.0 and parameters: {'n_estimators': 13, 'max_depth': 7, 'min_samples_split': 5, 'min_samples_leaf': 6, 'bootstrap': True, 'criterion': 'log_loss', 'class_weight': 'balanced'}. Best is trial 0 with value: 1.0.\n",
      "[I 2024-11-26 16:25:37,876] Trial 66 finished with value: 1.0 and parameters: {'n_estimators': 4, 'max_depth': 9, 'min_samples_split': 6, 'min_samples_leaf': 5, 'bootstrap': False, 'criterion': 'entropy', 'class_weight': 'balanced_subsample'}. Best is trial 0 with value: 1.0.\n",
      "[I 2024-11-26 16:25:37,908] Trial 67 finished with value: 0.9841269841269841 and parameters: {'n_estimators': 2, 'max_depth': 12, 'min_samples_split': 10, 'min_samples_leaf': 7, 'bootstrap': False, 'criterion': 'log_loss', 'class_weight': 'balanced'}. Best is trial 0 with value: 1.0.\n",
      "[I 2024-11-26 16:25:37,947] Trial 68 finished with value: 1.0 and parameters: {'n_estimators': 5, 'max_depth': 15, 'min_samples_split': 4, 'min_samples_leaf': 6, 'bootstrap': True, 'criterion': 'log_loss', 'class_weight': 'balanced_subsample'}. Best is trial 0 with value: 1.0.\n",
      "[I 2024-11-26 16:25:37,987] Trial 69 finished with value: 1.0 and parameters: {'n_estimators': 9, 'max_depth': 10, 'min_samples_split': 3, 'min_samples_leaf': 5, 'bootstrap': False, 'criterion': 'entropy', 'class_weight': 'balanced'}. Best is trial 0 with value: 1.0.\n",
      "[I 2024-11-26 16:25:38,031] Trial 70 finished with value: 1.0 and parameters: {'n_estimators': 14, 'max_depth': 12, 'min_samples_split': 7, 'min_samples_leaf': 10, 'bootstrap': False, 'criterion': 'log_loss', 'class_weight': 'balanced_subsample'}. Best is trial 0 with value: 1.0.\n",
      "[I 2024-11-26 16:25:38,078] Trial 71 finished with value: 1.0 and parameters: {'n_estimators': 10, 'max_depth': 4, 'min_samples_split': 7, 'min_samples_leaf': 2, 'bootstrap': True, 'criterion': 'log_loss', 'class_weight': 'balanced'}. Best is trial 0 with value: 1.0.\n",
      "[I 2024-11-26 16:25:38,123] Trial 72 finished with value: 1.0 and parameters: {'n_estimators': 11, 'max_depth': 2, 'min_samples_split': 8, 'min_samples_leaf': 2, 'bootstrap': True, 'criterion': 'log_loss', 'class_weight': 'balanced'}. Best is trial 0 with value: 1.0.\n",
      "[I 2024-11-26 16:25:38,164] Trial 73 finished with value: 1.0 and parameters: {'n_estimators': 10, 'max_depth': 3, 'min_samples_split': 8, 'min_samples_leaf': 3, 'bootstrap': True, 'criterion': 'log_loss', 'class_weight': 'balanced'}. Best is trial 0 with value: 1.0.\n",
      "[I 2024-11-26 16:25:38,203] Trial 74 finished with value: 1.0 and parameters: {'n_estimators': 9, 'max_depth': 2, 'min_samples_split': 6, 'min_samples_leaf': 3, 'bootstrap': True, 'criterion': 'log_loss', 'class_weight': 'balanced'}. Best is trial 0 with value: 1.0.\n",
      "[I 2024-11-26 16:25:38,250] Trial 75 finished with value: 1.0 and parameters: {'n_estimators': 12, 'max_depth': 3, 'min_samples_split': 9, 'min_samples_leaf': 8, 'bootstrap': True, 'criterion': 'log_loss', 'class_weight': 'balanced'}. Best is trial 0 with value: 1.0.\n",
      "[I 2024-11-26 16:25:38,294] Trial 76 finished with value: 1.0 and parameters: {'n_estimators': 8, 'max_depth': 4, 'min_samples_split': 8, 'min_samples_leaf': 7, 'bootstrap': False, 'criterion': 'entropy', 'class_weight': 'balanced_subsample'}. Best is trial 0 with value: 1.0.\n",
      "[I 2024-11-26 16:25:38,335] Trial 77 finished with value: 1.0 and parameters: {'n_estimators': 7, 'max_depth': 8, 'min_samples_split': 7, 'min_samples_leaf': 4, 'bootstrap': True, 'criterion': 'log_loss', 'class_weight': 'balanced'}. Best is trial 0 with value: 1.0.\n",
      "[I 2024-11-26 16:25:38,385] Trial 78 finished with value: 1.0 and parameters: {'n_estimators': 15, 'max_depth': 7, 'min_samples_split': 3, 'min_samples_leaf': 6, 'bootstrap': False, 'criterion': 'entropy', 'class_weight': 'balanced_subsample'}. Best is trial 0 with value: 1.0.\n",
      "[I 2024-11-26 16:25:38,432] Trial 79 finished with value: 1.0 and parameters: {'n_estimators': 11, 'max_depth': 10, 'min_samples_split': 9, 'min_samples_leaf': 7, 'bootstrap': True, 'criterion': 'log_loss', 'class_weight': 'balanced'}. Best is trial 0 with value: 1.0.\n",
      "[I 2024-11-26 16:25:38,477] Trial 80 finished with value: 1.0 and parameters: {'n_estimators': 14, 'max_depth': 5, 'min_samples_split': 7, 'min_samples_leaf': 4, 'bootstrap': False, 'criterion': 'entropy', 'class_weight': 'balanced_subsample'}. Best is trial 0 with value: 1.0.\n",
      "[I 2024-11-26 16:25:38,518] Trial 81 finished with value: 1.0 and parameters: {'n_estimators': 8, 'max_depth': 9, 'min_samples_split': 4, 'min_samples_leaf': 6, 'bootstrap': True, 'criterion': 'log_loss', 'class_weight': 'balanced_subsample'}. Best is trial 0 with value: 1.0.\n",
      "[I 2024-11-26 16:25:38,564] Trial 82 finished with value: 1.0 and parameters: {'n_estimators': 10, 'max_depth': 11, 'min_samples_split': 4, 'min_samples_leaf': 9, 'bootstrap': True, 'criterion': 'log_loss', 'class_weight': 'balanced_subsample'}. Best is trial 0 with value: 1.0.\n",
      "[I 2024-11-26 16:25:38,607] Trial 83 finished with value: 1.0 and parameters: {'n_estimators': 9, 'max_depth': 9, 'min_samples_split': 5, 'min_samples_leaf': 5, 'bootstrap': True, 'criterion': 'log_loss', 'class_weight': 'balanced_subsample'}. Best is trial 0 with value: 1.0.\n",
      "[I 2024-11-26 16:25:38,645] Trial 84 finished with value: 0.9841269841269841 and parameters: {'n_estimators': 3, 'max_depth': 11, 'min_samples_split': 3, 'min_samples_leaf': 6, 'bootstrap': True, 'criterion': 'log_loss', 'class_weight': 'balanced_subsample'}. Best is trial 0 with value: 1.0.\n",
      "[I 2024-11-26 16:25:38,700] Trial 85 finished with value: 1.0 and parameters: {'n_estimators': 13, 'max_depth': 10, 'min_samples_split': 4, 'min_samples_leaf': 5, 'bootstrap': True, 'criterion': 'log_loss', 'class_weight': 'balanced_subsample'}. Best is trial 0 with value: 1.0.\n",
      "[I 2024-11-26 16:25:38,741] Trial 86 finished with value: 1.0 and parameters: {'n_estimators': 6, 'max_depth': 2, 'min_samples_split': 3, 'min_samples_leaf': 8, 'bootstrap': False, 'criterion': 'entropy', 'class_weight': 'balanced'}. Best is trial 0 with value: 1.0.\n",
      "[I 2024-11-26 16:25:38,797] Trial 87 finished with value: 1.0 and parameters: {'n_estimators': 11, 'max_depth': 8, 'min_samples_split': 5, 'min_samples_leaf': 4, 'bootstrap': True, 'criterion': 'log_loss', 'class_weight': 'balanced_subsample'}. Best is trial 0 with value: 1.0.\n",
      "[I 2024-11-26 16:25:38,838] Trial 88 finished with value: 1.0 and parameters: {'n_estimators': 5, 'max_depth': 10, 'min_samples_split': 10, 'min_samples_leaf': 6, 'bootstrap': False, 'criterion': 'entropy', 'class_weight': 'balanced'}. Best is trial 0 with value: 1.0.\n",
      "[I 2024-11-26 16:25:38,884] Trial 89 finished with value: 1.0 and parameters: {'n_estimators': 12, 'max_depth': 3, 'min_samples_split': 6, 'min_samples_leaf': 7, 'bootstrap': False, 'criterion': 'log_loss', 'class_weight': 'balanced_subsample'}. Best is trial 0 with value: 1.0.\n",
      "[I 2024-11-26 16:25:38,927] Trial 90 finished with value: 1.0 and parameters: {'n_estimators': 10, 'max_depth': 9, 'min_samples_split': 9, 'min_samples_leaf': 5, 'bootstrap': True, 'criterion': 'log_loss', 'class_weight': 'balanced'}. Best is trial 0 with value: 1.0.\n",
      "[I 2024-11-26 16:25:38,975] Trial 91 finished with value: 1.0 and parameters: {'n_estimators': 9, 'max_depth': 8, 'min_samples_split': 10, 'min_samples_leaf': 2, 'bootstrap': True, 'criterion': 'log_loss', 'class_weight': 'balanced_subsample'}. Best is trial 0 with value: 1.0.\n",
      "[I 2024-11-26 16:25:39,023] Trial 92 finished with value: 1.0 and parameters: {'n_estimators': 8, 'max_depth': 6, 'min_samples_split': 10, 'min_samples_leaf': 3, 'bootstrap': True, 'criterion': 'log_loss', 'class_weight': 'balanced_subsample'}. Best is trial 0 with value: 1.0.\n",
      "[I 2024-11-26 16:25:39,068] Trial 93 finished with value: 1.0 and parameters: {'n_estimators': 7, 'max_depth': 9, 'min_samples_split': 10, 'min_samples_leaf': 2, 'bootstrap': True, 'criterion': 'log_loss', 'class_weight': 'balanced_subsample'}. Best is trial 0 with value: 1.0.\n",
      "[I 2024-11-26 16:25:39,119] Trial 94 finished with value: 1.0 and parameters: {'n_estimators': 9, 'max_depth': 7, 'min_samples_split': 9, 'min_samples_leaf': 3, 'bootstrap': True, 'criterion': 'log_loss', 'class_weight': 'balanced_subsample'}. Best is trial 0 with value: 1.0.\n",
      "[I 2024-11-26 16:25:39,165] Trial 95 finished with value: 1.0 and parameters: {'n_estimators': 10, 'max_depth': 2, 'min_samples_split': 3, 'min_samples_leaf': 2, 'bootstrap': False, 'criterion': 'entropy', 'class_weight': 'balanced_subsample'}. Best is trial 0 with value: 1.0.\n",
      "[I 2024-11-26 16:25:39,218] Trial 96 finished with value: 1.0 and parameters: {'n_estimators': 4, 'max_depth': 10, 'min_samples_split': 10, 'min_samples_leaf': 6, 'bootstrap': True, 'criterion': 'log_loss', 'class_weight': 'balanced'}. Best is trial 0 with value: 1.0.\n",
      "[I 2024-11-26 16:25:39,266] Trial 97 finished with value: 1.0 and parameters: {'n_estimators': 9, 'max_depth': 8, 'min_samples_split': 8, 'min_samples_leaf': 4, 'bootstrap': False, 'criterion': 'entropy', 'class_weight': 'balanced_subsample'}. Best is trial 0 with value: 1.0.\n",
      "[I 2024-11-26 16:25:39,322] Trial 98 finished with value: 1.0 and parameters: {'n_estimators': 10, 'max_depth': 5, 'min_samples_split': 9, 'min_samples_leaf': 5, 'bootstrap': True, 'criterion': 'log_loss', 'class_weight': 'balanced'}. Best is trial 0 with value: 1.0.\n",
      "[I 2024-11-26 16:25:39,371] Trial 99 finished with value: 0.9920634920634921 and parameters: {'n_estimators': 9, 'max_depth': 3, 'min_samples_split': 10, 'min_samples_leaf': 6, 'bootstrap': True, 'criterion': 'log_loss', 'class_weight': 'balanced'}. Best is trial 0 with value: 1.0.\n"
     ]
    }
   ],
   "source": [
    "# Optimize hyperparameters for Random Forest using Optuna\n",
    "def objective_rf(trial):\n",
    "    # Definir los hiperparámetros a optimizar\n",
    "    n_estimators = trial.suggest_int(\"n_estimators\", 1, 15)\n",
    "    max_depth = trial.suggest_int(\"max_depth\", 2, 15)\n",
    "    min_samples_split = trial.suggest_int(\"min_samples_split\", 3, 10)\n",
    "    min_samples_leaf = trial.suggest_int(\"min_samples_leaf\", 2, 10)\n",
    "    bootstrap = trial.suggest_categorical(\"bootstrap\", [True, False])\n",
    "    criterion = trial.suggest_categorical(\"criterion\", [\"entropy\", \"log_loss\"])\n",
    "    class_weight = trial.suggest_categorical(\"class_weight\", [\"balanced\", \"balanced_subsample\"])\n",
    "\n",
    "    # Crear el modelo con los hiperparámetros dados\n",
    "    model = RandomForestClassifier(\n",
    "        n_estimators=n_estimators,\n",
    "        max_depth=max_depth,\n",
    "        min_samples_split=min_samples_split,\n",
    "        min_samples_leaf=min_samples_leaf,\n",
    "        bootstrap=bootstrap,\n",
    "        random_state=42,\n",
    "        criterion=criterion,\n",
    "        class_weight=class_weight\n",
    "    )\n",
    "\n",
    "    # Entrenar el modelo\n",
    "    model.fit(X_train, y_train)\n",
    "\n",
    "    # Predicción y cálculo de precisión\n",
    "    preds = model.predict(X_test)\n",
    "    accuracy = accuracy_score(y_test, preds)\n",
    "    return accuracy\n",
    "\n",
    "\n",
    "# Crea un estudio para Bosque Aleatorio\n",
    "study_rf = optuna.create_study(direction=\"maximize\", study_name=\"Random Forest\")\n",
    "study_rf.optimize(objective_rf, n_trials=100)"
   ]
  },
  {
   "cell_type": "code",
   "execution_count": 112,
   "metadata": {},
   "outputs": [
    {
     "data": {
      "application/vnd.plotly.v1+json": {
       "config": {
        "plotlyServerURL": "https://plot.ly"
       },
       "data": [
        {
         "mode": "markers",
         "name": "Objective Value",
         "type": "scatter",
         "x": [
          0,
          1,
          2,
          3,
          4,
          5,
          6,
          7,
          8,
          9,
          10,
          11,
          12,
          13,
          14,
          15,
          16,
          17,
          18,
          19,
          20,
          21,
          22,
          23,
          24,
          25,
          26,
          27,
          28,
          29,
          30,
          31,
          32,
          33,
          34,
          35,
          36,
          37,
          38,
          39,
          40,
          41,
          42,
          43,
          44,
          45,
          46,
          47,
          48,
          49,
          50,
          51,
          52,
          53,
          54,
          55,
          56,
          57,
          58,
          59,
          60,
          61,
          62,
          63,
          64,
          65,
          66,
          67,
          68,
          69,
          70,
          71,
          72,
          73,
          74,
          75,
          76,
          77,
          78,
          79,
          80,
          81,
          82,
          83,
          84,
          85,
          86,
          87,
          88,
          89,
          90,
          91,
          92,
          93,
          94,
          95,
          96,
          97,
          98,
          99
         ],
         "y": [
          1,
          1,
          1,
          1,
          1,
          1,
          1,
          1,
          1,
          1,
          1,
          1,
          1,
          0.9761904761904762,
          1,
          1,
          1,
          1,
          1,
          1,
          0.9841269841269841,
          1,
          1,
          1,
          1,
          1,
          1,
          1,
          1,
          1,
          1,
          1,
          1,
          1,
          1,
          1,
          1,
          1,
          1,
          1,
          1,
          1,
          1,
          1,
          1,
          0.9920634920634921,
          1,
          1,
          1,
          1,
          1,
          1,
          0.9920634920634921,
          1,
          1,
          0.9841269841269841,
          1,
          1,
          1,
          1,
          1,
          1,
          0.9920634920634921,
          0.9841269841269841,
          1,
          1,
          1,
          0.9841269841269841,
          1,
          1,
          1,
          1,
          1,
          1,
          1,
          1,
          1,
          1,
          1,
          1,
          1,
          1,
          1,
          1,
          0.9841269841269841,
          1,
          1,
          1,
          1,
          1,
          1,
          1,
          1,
          1,
          1,
          1,
          1,
          1,
          1,
          0.9920634920634921
         ]
        },
        {
         "mode": "lines",
         "name": "Best Value",
         "type": "scatter",
         "x": [
          0,
          1,
          2,
          3,
          4,
          5,
          6,
          7,
          8,
          9,
          10,
          11,
          12,
          13,
          14,
          15,
          16,
          17,
          18,
          19,
          20,
          21,
          22,
          23,
          24,
          25,
          26,
          27,
          28,
          29,
          30,
          31,
          32,
          33,
          34,
          35,
          36,
          37,
          38,
          39,
          40,
          41,
          42,
          43,
          44,
          45,
          46,
          47,
          48,
          49,
          50,
          51,
          52,
          53,
          54,
          55,
          56,
          57,
          58,
          59,
          60,
          61,
          62,
          63,
          64,
          65,
          66,
          67,
          68,
          69,
          70,
          71,
          72,
          73,
          74,
          75,
          76,
          77,
          78,
          79,
          80,
          81,
          82,
          83,
          84,
          85,
          86,
          87,
          88,
          89,
          90,
          91,
          92,
          93,
          94,
          95,
          96,
          97,
          98,
          99
         ],
         "y": [
          1,
          1,
          1,
          1,
          1,
          1,
          1,
          1,
          1,
          1,
          1,
          1,
          1,
          1,
          1,
          1,
          1,
          1,
          1,
          1,
          1,
          1,
          1,
          1,
          1,
          1,
          1,
          1,
          1,
          1,
          1,
          1,
          1,
          1,
          1,
          1,
          1,
          1,
          1,
          1,
          1,
          1,
          1,
          1,
          1,
          1,
          1,
          1,
          1,
          1,
          1,
          1,
          1,
          1,
          1,
          1,
          1,
          1,
          1,
          1,
          1,
          1,
          1,
          1,
          1,
          1,
          1,
          1,
          1,
          1,
          1,
          1,
          1,
          1,
          1,
          1,
          1,
          1,
          1,
          1,
          1,
          1,
          1,
          1,
          1,
          1,
          1,
          1,
          1,
          1,
          1,
          1,
          1,
          1,
          1,
          1,
          1,
          1,
          1,
          1
         ]
        },
        {
         "marker": {
          "color": "#cccccc"
         },
         "mode": "markers",
         "name": "Infeasible Trial",
         "showlegend": false,
         "type": "scatter",
         "x": [],
         "y": []
        }
       ],
       "layout": {
        "template": {
         "data": {
          "bar": [
           {
            "error_x": {
             "color": "#2a3f5f"
            },
            "error_y": {
             "color": "#2a3f5f"
            },
            "marker": {
             "line": {
              "color": "#E5ECF6",
              "width": 0.5
             },
             "pattern": {
              "fillmode": "overlay",
              "size": 10,
              "solidity": 0.2
             }
            },
            "type": "bar"
           }
          ],
          "barpolar": [
           {
            "marker": {
             "line": {
              "color": "#E5ECF6",
              "width": 0.5
             },
             "pattern": {
              "fillmode": "overlay",
              "size": 10,
              "solidity": 0.2
             }
            },
            "type": "barpolar"
           }
          ],
          "carpet": [
           {
            "aaxis": {
             "endlinecolor": "#2a3f5f",
             "gridcolor": "white",
             "linecolor": "white",
             "minorgridcolor": "white",
             "startlinecolor": "#2a3f5f"
            },
            "baxis": {
             "endlinecolor": "#2a3f5f",
             "gridcolor": "white",
             "linecolor": "white",
             "minorgridcolor": "white",
             "startlinecolor": "#2a3f5f"
            },
            "type": "carpet"
           }
          ],
          "choropleth": [
           {
            "colorbar": {
             "outlinewidth": 0,
             "ticks": ""
            },
            "type": "choropleth"
           }
          ],
          "contour": [
           {
            "colorbar": {
             "outlinewidth": 0,
             "ticks": ""
            },
            "colorscale": [
             [
              0,
              "#0d0887"
             ],
             [
              0.1111111111111111,
              "#46039f"
             ],
             [
              0.2222222222222222,
              "#7201a8"
             ],
             [
              0.3333333333333333,
              "#9c179e"
             ],
             [
              0.4444444444444444,
              "#bd3786"
             ],
             [
              0.5555555555555556,
              "#d8576b"
             ],
             [
              0.6666666666666666,
              "#ed7953"
             ],
             [
              0.7777777777777778,
              "#fb9f3a"
             ],
             [
              0.8888888888888888,
              "#fdca26"
             ],
             [
              1,
              "#f0f921"
             ]
            ],
            "type": "contour"
           }
          ],
          "contourcarpet": [
           {
            "colorbar": {
             "outlinewidth": 0,
             "ticks": ""
            },
            "type": "contourcarpet"
           }
          ],
          "heatmap": [
           {
            "colorbar": {
             "outlinewidth": 0,
             "ticks": ""
            },
            "colorscale": [
             [
              0,
              "#0d0887"
             ],
             [
              0.1111111111111111,
              "#46039f"
             ],
             [
              0.2222222222222222,
              "#7201a8"
             ],
             [
              0.3333333333333333,
              "#9c179e"
             ],
             [
              0.4444444444444444,
              "#bd3786"
             ],
             [
              0.5555555555555556,
              "#d8576b"
             ],
             [
              0.6666666666666666,
              "#ed7953"
             ],
             [
              0.7777777777777778,
              "#fb9f3a"
             ],
             [
              0.8888888888888888,
              "#fdca26"
             ],
             [
              1,
              "#f0f921"
             ]
            ],
            "type": "heatmap"
           }
          ],
          "heatmapgl": [
           {
            "colorbar": {
             "outlinewidth": 0,
             "ticks": ""
            },
            "colorscale": [
             [
              0,
              "#0d0887"
             ],
             [
              0.1111111111111111,
              "#46039f"
             ],
             [
              0.2222222222222222,
              "#7201a8"
             ],
             [
              0.3333333333333333,
              "#9c179e"
             ],
             [
              0.4444444444444444,
              "#bd3786"
             ],
             [
              0.5555555555555556,
              "#d8576b"
             ],
             [
              0.6666666666666666,
              "#ed7953"
             ],
             [
              0.7777777777777778,
              "#fb9f3a"
             ],
             [
              0.8888888888888888,
              "#fdca26"
             ],
             [
              1,
              "#f0f921"
             ]
            ],
            "type": "heatmapgl"
           }
          ],
          "histogram": [
           {
            "marker": {
             "pattern": {
              "fillmode": "overlay",
              "size": 10,
              "solidity": 0.2
             }
            },
            "type": "histogram"
           }
          ],
          "histogram2d": [
           {
            "colorbar": {
             "outlinewidth": 0,
             "ticks": ""
            },
            "colorscale": [
             [
              0,
              "#0d0887"
             ],
             [
              0.1111111111111111,
              "#46039f"
             ],
             [
              0.2222222222222222,
              "#7201a8"
             ],
             [
              0.3333333333333333,
              "#9c179e"
             ],
             [
              0.4444444444444444,
              "#bd3786"
             ],
             [
              0.5555555555555556,
              "#d8576b"
             ],
             [
              0.6666666666666666,
              "#ed7953"
             ],
             [
              0.7777777777777778,
              "#fb9f3a"
             ],
             [
              0.8888888888888888,
              "#fdca26"
             ],
             [
              1,
              "#f0f921"
             ]
            ],
            "type": "histogram2d"
           }
          ],
          "histogram2dcontour": [
           {
            "colorbar": {
             "outlinewidth": 0,
             "ticks": ""
            },
            "colorscale": [
             [
              0,
              "#0d0887"
             ],
             [
              0.1111111111111111,
              "#46039f"
             ],
             [
              0.2222222222222222,
              "#7201a8"
             ],
             [
              0.3333333333333333,
              "#9c179e"
             ],
             [
              0.4444444444444444,
              "#bd3786"
             ],
             [
              0.5555555555555556,
              "#d8576b"
             ],
             [
              0.6666666666666666,
              "#ed7953"
             ],
             [
              0.7777777777777778,
              "#fb9f3a"
             ],
             [
              0.8888888888888888,
              "#fdca26"
             ],
             [
              1,
              "#f0f921"
             ]
            ],
            "type": "histogram2dcontour"
           }
          ],
          "mesh3d": [
           {
            "colorbar": {
             "outlinewidth": 0,
             "ticks": ""
            },
            "type": "mesh3d"
           }
          ],
          "parcoords": [
           {
            "line": {
             "colorbar": {
              "outlinewidth": 0,
              "ticks": ""
             }
            },
            "type": "parcoords"
           }
          ],
          "pie": [
           {
            "automargin": true,
            "type": "pie"
           }
          ],
          "scatter": [
           {
            "fillpattern": {
             "fillmode": "overlay",
             "size": 10,
             "solidity": 0.2
            },
            "type": "scatter"
           }
          ],
          "scatter3d": [
           {
            "line": {
             "colorbar": {
              "outlinewidth": 0,
              "ticks": ""
             }
            },
            "marker": {
             "colorbar": {
              "outlinewidth": 0,
              "ticks": ""
             }
            },
            "type": "scatter3d"
           }
          ],
          "scattercarpet": [
           {
            "marker": {
             "colorbar": {
              "outlinewidth": 0,
              "ticks": ""
             }
            },
            "type": "scattercarpet"
           }
          ],
          "scattergeo": [
           {
            "marker": {
             "colorbar": {
              "outlinewidth": 0,
              "ticks": ""
             }
            },
            "type": "scattergeo"
           }
          ],
          "scattergl": [
           {
            "marker": {
             "colorbar": {
              "outlinewidth": 0,
              "ticks": ""
             }
            },
            "type": "scattergl"
           }
          ],
          "scattermapbox": [
           {
            "marker": {
             "colorbar": {
              "outlinewidth": 0,
              "ticks": ""
             }
            },
            "type": "scattermapbox"
           }
          ],
          "scatterpolar": [
           {
            "marker": {
             "colorbar": {
              "outlinewidth": 0,
              "ticks": ""
             }
            },
            "type": "scatterpolar"
           }
          ],
          "scatterpolargl": [
           {
            "marker": {
             "colorbar": {
              "outlinewidth": 0,
              "ticks": ""
             }
            },
            "type": "scatterpolargl"
           }
          ],
          "scatterternary": [
           {
            "marker": {
             "colorbar": {
              "outlinewidth": 0,
              "ticks": ""
             }
            },
            "type": "scatterternary"
           }
          ],
          "surface": [
           {
            "colorbar": {
             "outlinewidth": 0,
             "ticks": ""
            },
            "colorscale": [
             [
              0,
              "#0d0887"
             ],
             [
              0.1111111111111111,
              "#46039f"
             ],
             [
              0.2222222222222222,
              "#7201a8"
             ],
             [
              0.3333333333333333,
              "#9c179e"
             ],
             [
              0.4444444444444444,
              "#bd3786"
             ],
             [
              0.5555555555555556,
              "#d8576b"
             ],
             [
              0.6666666666666666,
              "#ed7953"
             ],
             [
              0.7777777777777778,
              "#fb9f3a"
             ],
             [
              0.8888888888888888,
              "#fdca26"
             ],
             [
              1,
              "#f0f921"
             ]
            ],
            "type": "surface"
           }
          ],
          "table": [
           {
            "cells": {
             "fill": {
              "color": "#EBF0F8"
             },
             "line": {
              "color": "white"
             }
            },
            "header": {
             "fill": {
              "color": "#C8D4E3"
             },
             "line": {
              "color": "white"
             }
            },
            "type": "table"
           }
          ]
         },
         "layout": {
          "annotationdefaults": {
           "arrowcolor": "#2a3f5f",
           "arrowhead": 0,
           "arrowwidth": 1
          },
          "autotypenumbers": "strict",
          "coloraxis": {
           "colorbar": {
            "outlinewidth": 0,
            "ticks": ""
           }
          },
          "colorscale": {
           "diverging": [
            [
             0,
             "#8e0152"
            ],
            [
             0.1,
             "#c51b7d"
            ],
            [
             0.2,
             "#de77ae"
            ],
            [
             0.3,
             "#f1b6da"
            ],
            [
             0.4,
             "#fde0ef"
            ],
            [
             0.5,
             "#f7f7f7"
            ],
            [
             0.6,
             "#e6f5d0"
            ],
            [
             0.7,
             "#b8e186"
            ],
            [
             0.8,
             "#7fbc41"
            ],
            [
             0.9,
             "#4d9221"
            ],
            [
             1,
             "#276419"
            ]
           ],
           "sequential": [
            [
             0,
             "#0d0887"
            ],
            [
             0.1111111111111111,
             "#46039f"
            ],
            [
             0.2222222222222222,
             "#7201a8"
            ],
            [
             0.3333333333333333,
             "#9c179e"
            ],
            [
             0.4444444444444444,
             "#bd3786"
            ],
            [
             0.5555555555555556,
             "#d8576b"
            ],
            [
             0.6666666666666666,
             "#ed7953"
            ],
            [
             0.7777777777777778,
             "#fb9f3a"
            ],
            [
             0.8888888888888888,
             "#fdca26"
            ],
            [
             1,
             "#f0f921"
            ]
           ],
           "sequentialminus": [
            [
             0,
             "#0d0887"
            ],
            [
             0.1111111111111111,
             "#46039f"
            ],
            [
             0.2222222222222222,
             "#7201a8"
            ],
            [
             0.3333333333333333,
             "#9c179e"
            ],
            [
             0.4444444444444444,
             "#bd3786"
            ],
            [
             0.5555555555555556,
             "#d8576b"
            ],
            [
             0.6666666666666666,
             "#ed7953"
            ],
            [
             0.7777777777777778,
             "#fb9f3a"
            ],
            [
             0.8888888888888888,
             "#fdca26"
            ],
            [
             1,
             "#f0f921"
            ]
           ]
          },
          "colorway": [
           "#636efa",
           "#EF553B",
           "#00cc96",
           "#ab63fa",
           "#FFA15A",
           "#19d3f3",
           "#FF6692",
           "#B6E880",
           "#FF97FF",
           "#FECB52"
          ],
          "font": {
           "color": "#2a3f5f"
          },
          "geo": {
           "bgcolor": "white",
           "lakecolor": "white",
           "landcolor": "#E5ECF6",
           "showlakes": true,
           "showland": true,
           "subunitcolor": "white"
          },
          "hoverlabel": {
           "align": "left"
          },
          "hovermode": "closest",
          "mapbox": {
           "style": "light"
          },
          "paper_bgcolor": "white",
          "plot_bgcolor": "#E5ECF6",
          "polar": {
           "angularaxis": {
            "gridcolor": "white",
            "linecolor": "white",
            "ticks": ""
           },
           "bgcolor": "#E5ECF6",
           "radialaxis": {
            "gridcolor": "white",
            "linecolor": "white",
            "ticks": ""
           }
          },
          "scene": {
           "xaxis": {
            "backgroundcolor": "#E5ECF6",
            "gridcolor": "white",
            "gridwidth": 2,
            "linecolor": "white",
            "showbackground": true,
            "ticks": "",
            "zerolinecolor": "white"
           },
           "yaxis": {
            "backgroundcolor": "#E5ECF6",
            "gridcolor": "white",
            "gridwidth": 2,
            "linecolor": "white",
            "showbackground": true,
            "ticks": "",
            "zerolinecolor": "white"
           },
           "zaxis": {
            "backgroundcolor": "#E5ECF6",
            "gridcolor": "white",
            "gridwidth": 2,
            "linecolor": "white",
            "showbackground": true,
            "ticks": "",
            "zerolinecolor": "white"
           }
          },
          "shapedefaults": {
           "line": {
            "color": "#2a3f5f"
           }
          },
          "ternary": {
           "aaxis": {
            "gridcolor": "white",
            "linecolor": "white",
            "ticks": ""
           },
           "baxis": {
            "gridcolor": "white",
            "linecolor": "white",
            "ticks": ""
           },
           "bgcolor": "#E5ECF6",
           "caxis": {
            "gridcolor": "white",
            "linecolor": "white",
            "ticks": ""
           }
          },
          "title": {
           "x": 0.05
          },
          "xaxis": {
           "automargin": true,
           "gridcolor": "white",
           "linecolor": "white",
           "ticks": "",
           "title": {
            "standoff": 15
           },
           "zerolinecolor": "white",
           "zerolinewidth": 2
          },
          "yaxis": {
           "automargin": true,
           "gridcolor": "white",
           "linecolor": "white",
           "ticks": "",
           "title": {
            "standoff": 15
           },
           "zerolinecolor": "white",
           "zerolinewidth": 2
          }
         }
        },
        "title": {
         "text": "Optimization History Plot"
        },
        "xaxis": {
         "title": {
          "text": "Trial"
         }
        },
        "yaxis": {
         "title": {
          "text": "Objective Value"
         }
        }
       }
      }
     },
     "metadata": {},
     "output_type": "display_data"
    },
    {
     "data": {
      "application/vnd.plotly.v1+json": {
       "config": {
        "plotlyServerURL": "https://plot.ly"
       },
       "data": [
        {
         "cliponaxis": false,
         "hovertemplate": [
          "criterion (CategoricalDistribution): 0.0008074194267322435<extra></extra>",
          "bootstrap (CategoricalDistribution): 0.004662882544142826<extra></extra>",
          "class_weight (CategoricalDistribution): 0.005543144049953405<extra></extra>",
          "min_samples_split (IntDistribution): 0.006812346509277094<extra></extra>",
          "max_depth (IntDistribution): 0.026837669376904228<extra></extra>",
          "min_samples_leaf (IntDistribution): 0.06490364416146656<extra></extra>",
          "n_estimators (IntDistribution): 0.8904328939315237<extra></extra>"
         ],
         "name": "Objective Value",
         "orientation": "h",
         "text": [
          "<0.01",
          "<0.01",
          "<0.01",
          "<0.01",
          "0.03",
          "0.06",
          "0.89"
         ],
         "textposition": "outside",
         "type": "bar",
         "x": [
          0.0008074194267322435,
          0.004662882544142826,
          0.005543144049953405,
          0.006812346509277094,
          0.026837669376904228,
          0.06490364416146656,
          0.8904328939315237
         ],
         "y": [
          "criterion",
          "bootstrap",
          "class_weight",
          "min_samples_split",
          "max_depth",
          "min_samples_leaf",
          "n_estimators"
         ]
        }
       ],
       "layout": {
        "template": {
         "data": {
          "bar": [
           {
            "error_x": {
             "color": "#2a3f5f"
            },
            "error_y": {
             "color": "#2a3f5f"
            },
            "marker": {
             "line": {
              "color": "#E5ECF6",
              "width": 0.5
             },
             "pattern": {
              "fillmode": "overlay",
              "size": 10,
              "solidity": 0.2
             }
            },
            "type": "bar"
           }
          ],
          "barpolar": [
           {
            "marker": {
             "line": {
              "color": "#E5ECF6",
              "width": 0.5
             },
             "pattern": {
              "fillmode": "overlay",
              "size": 10,
              "solidity": 0.2
             }
            },
            "type": "barpolar"
           }
          ],
          "carpet": [
           {
            "aaxis": {
             "endlinecolor": "#2a3f5f",
             "gridcolor": "white",
             "linecolor": "white",
             "minorgridcolor": "white",
             "startlinecolor": "#2a3f5f"
            },
            "baxis": {
             "endlinecolor": "#2a3f5f",
             "gridcolor": "white",
             "linecolor": "white",
             "minorgridcolor": "white",
             "startlinecolor": "#2a3f5f"
            },
            "type": "carpet"
           }
          ],
          "choropleth": [
           {
            "colorbar": {
             "outlinewidth": 0,
             "ticks": ""
            },
            "type": "choropleth"
           }
          ],
          "contour": [
           {
            "colorbar": {
             "outlinewidth": 0,
             "ticks": ""
            },
            "colorscale": [
             [
              0,
              "#0d0887"
             ],
             [
              0.1111111111111111,
              "#46039f"
             ],
             [
              0.2222222222222222,
              "#7201a8"
             ],
             [
              0.3333333333333333,
              "#9c179e"
             ],
             [
              0.4444444444444444,
              "#bd3786"
             ],
             [
              0.5555555555555556,
              "#d8576b"
             ],
             [
              0.6666666666666666,
              "#ed7953"
             ],
             [
              0.7777777777777778,
              "#fb9f3a"
             ],
             [
              0.8888888888888888,
              "#fdca26"
             ],
             [
              1,
              "#f0f921"
             ]
            ],
            "type": "contour"
           }
          ],
          "contourcarpet": [
           {
            "colorbar": {
             "outlinewidth": 0,
             "ticks": ""
            },
            "type": "contourcarpet"
           }
          ],
          "heatmap": [
           {
            "colorbar": {
             "outlinewidth": 0,
             "ticks": ""
            },
            "colorscale": [
             [
              0,
              "#0d0887"
             ],
             [
              0.1111111111111111,
              "#46039f"
             ],
             [
              0.2222222222222222,
              "#7201a8"
             ],
             [
              0.3333333333333333,
              "#9c179e"
             ],
             [
              0.4444444444444444,
              "#bd3786"
             ],
             [
              0.5555555555555556,
              "#d8576b"
             ],
             [
              0.6666666666666666,
              "#ed7953"
             ],
             [
              0.7777777777777778,
              "#fb9f3a"
             ],
             [
              0.8888888888888888,
              "#fdca26"
             ],
             [
              1,
              "#f0f921"
             ]
            ],
            "type": "heatmap"
           }
          ],
          "heatmapgl": [
           {
            "colorbar": {
             "outlinewidth": 0,
             "ticks": ""
            },
            "colorscale": [
             [
              0,
              "#0d0887"
             ],
             [
              0.1111111111111111,
              "#46039f"
             ],
             [
              0.2222222222222222,
              "#7201a8"
             ],
             [
              0.3333333333333333,
              "#9c179e"
             ],
             [
              0.4444444444444444,
              "#bd3786"
             ],
             [
              0.5555555555555556,
              "#d8576b"
             ],
             [
              0.6666666666666666,
              "#ed7953"
             ],
             [
              0.7777777777777778,
              "#fb9f3a"
             ],
             [
              0.8888888888888888,
              "#fdca26"
             ],
             [
              1,
              "#f0f921"
             ]
            ],
            "type": "heatmapgl"
           }
          ],
          "histogram": [
           {
            "marker": {
             "pattern": {
              "fillmode": "overlay",
              "size": 10,
              "solidity": 0.2
             }
            },
            "type": "histogram"
           }
          ],
          "histogram2d": [
           {
            "colorbar": {
             "outlinewidth": 0,
             "ticks": ""
            },
            "colorscale": [
             [
              0,
              "#0d0887"
             ],
             [
              0.1111111111111111,
              "#46039f"
             ],
             [
              0.2222222222222222,
              "#7201a8"
             ],
             [
              0.3333333333333333,
              "#9c179e"
             ],
             [
              0.4444444444444444,
              "#bd3786"
             ],
             [
              0.5555555555555556,
              "#d8576b"
             ],
             [
              0.6666666666666666,
              "#ed7953"
             ],
             [
              0.7777777777777778,
              "#fb9f3a"
             ],
             [
              0.8888888888888888,
              "#fdca26"
             ],
             [
              1,
              "#f0f921"
             ]
            ],
            "type": "histogram2d"
           }
          ],
          "histogram2dcontour": [
           {
            "colorbar": {
             "outlinewidth": 0,
             "ticks": ""
            },
            "colorscale": [
             [
              0,
              "#0d0887"
             ],
             [
              0.1111111111111111,
              "#46039f"
             ],
             [
              0.2222222222222222,
              "#7201a8"
             ],
             [
              0.3333333333333333,
              "#9c179e"
             ],
             [
              0.4444444444444444,
              "#bd3786"
             ],
             [
              0.5555555555555556,
              "#d8576b"
             ],
             [
              0.6666666666666666,
              "#ed7953"
             ],
             [
              0.7777777777777778,
              "#fb9f3a"
             ],
             [
              0.8888888888888888,
              "#fdca26"
             ],
             [
              1,
              "#f0f921"
             ]
            ],
            "type": "histogram2dcontour"
           }
          ],
          "mesh3d": [
           {
            "colorbar": {
             "outlinewidth": 0,
             "ticks": ""
            },
            "type": "mesh3d"
           }
          ],
          "parcoords": [
           {
            "line": {
             "colorbar": {
              "outlinewidth": 0,
              "ticks": ""
             }
            },
            "type": "parcoords"
           }
          ],
          "pie": [
           {
            "automargin": true,
            "type": "pie"
           }
          ],
          "scatter": [
           {
            "fillpattern": {
             "fillmode": "overlay",
             "size": 10,
             "solidity": 0.2
            },
            "type": "scatter"
           }
          ],
          "scatter3d": [
           {
            "line": {
             "colorbar": {
              "outlinewidth": 0,
              "ticks": ""
             }
            },
            "marker": {
             "colorbar": {
              "outlinewidth": 0,
              "ticks": ""
             }
            },
            "type": "scatter3d"
           }
          ],
          "scattercarpet": [
           {
            "marker": {
             "colorbar": {
              "outlinewidth": 0,
              "ticks": ""
             }
            },
            "type": "scattercarpet"
           }
          ],
          "scattergeo": [
           {
            "marker": {
             "colorbar": {
              "outlinewidth": 0,
              "ticks": ""
             }
            },
            "type": "scattergeo"
           }
          ],
          "scattergl": [
           {
            "marker": {
             "colorbar": {
              "outlinewidth": 0,
              "ticks": ""
             }
            },
            "type": "scattergl"
           }
          ],
          "scattermapbox": [
           {
            "marker": {
             "colorbar": {
              "outlinewidth": 0,
              "ticks": ""
             }
            },
            "type": "scattermapbox"
           }
          ],
          "scatterpolar": [
           {
            "marker": {
             "colorbar": {
              "outlinewidth": 0,
              "ticks": ""
             }
            },
            "type": "scatterpolar"
           }
          ],
          "scatterpolargl": [
           {
            "marker": {
             "colorbar": {
              "outlinewidth": 0,
              "ticks": ""
             }
            },
            "type": "scatterpolargl"
           }
          ],
          "scatterternary": [
           {
            "marker": {
             "colorbar": {
              "outlinewidth": 0,
              "ticks": ""
             }
            },
            "type": "scatterternary"
           }
          ],
          "surface": [
           {
            "colorbar": {
             "outlinewidth": 0,
             "ticks": ""
            },
            "colorscale": [
             [
              0,
              "#0d0887"
             ],
             [
              0.1111111111111111,
              "#46039f"
             ],
             [
              0.2222222222222222,
              "#7201a8"
             ],
             [
              0.3333333333333333,
              "#9c179e"
             ],
             [
              0.4444444444444444,
              "#bd3786"
             ],
             [
              0.5555555555555556,
              "#d8576b"
             ],
             [
              0.6666666666666666,
              "#ed7953"
             ],
             [
              0.7777777777777778,
              "#fb9f3a"
             ],
             [
              0.8888888888888888,
              "#fdca26"
             ],
             [
              1,
              "#f0f921"
             ]
            ],
            "type": "surface"
           }
          ],
          "table": [
           {
            "cells": {
             "fill": {
              "color": "#EBF0F8"
             },
             "line": {
              "color": "white"
             }
            },
            "header": {
             "fill": {
              "color": "#C8D4E3"
             },
             "line": {
              "color": "white"
             }
            },
            "type": "table"
           }
          ]
         },
         "layout": {
          "annotationdefaults": {
           "arrowcolor": "#2a3f5f",
           "arrowhead": 0,
           "arrowwidth": 1
          },
          "autotypenumbers": "strict",
          "coloraxis": {
           "colorbar": {
            "outlinewidth": 0,
            "ticks": ""
           }
          },
          "colorscale": {
           "diverging": [
            [
             0,
             "#8e0152"
            ],
            [
             0.1,
             "#c51b7d"
            ],
            [
             0.2,
             "#de77ae"
            ],
            [
             0.3,
             "#f1b6da"
            ],
            [
             0.4,
             "#fde0ef"
            ],
            [
             0.5,
             "#f7f7f7"
            ],
            [
             0.6,
             "#e6f5d0"
            ],
            [
             0.7,
             "#b8e186"
            ],
            [
             0.8,
             "#7fbc41"
            ],
            [
             0.9,
             "#4d9221"
            ],
            [
             1,
             "#276419"
            ]
           ],
           "sequential": [
            [
             0,
             "#0d0887"
            ],
            [
             0.1111111111111111,
             "#46039f"
            ],
            [
             0.2222222222222222,
             "#7201a8"
            ],
            [
             0.3333333333333333,
             "#9c179e"
            ],
            [
             0.4444444444444444,
             "#bd3786"
            ],
            [
             0.5555555555555556,
             "#d8576b"
            ],
            [
             0.6666666666666666,
             "#ed7953"
            ],
            [
             0.7777777777777778,
             "#fb9f3a"
            ],
            [
             0.8888888888888888,
             "#fdca26"
            ],
            [
             1,
             "#f0f921"
            ]
           ],
           "sequentialminus": [
            [
             0,
             "#0d0887"
            ],
            [
             0.1111111111111111,
             "#46039f"
            ],
            [
             0.2222222222222222,
             "#7201a8"
            ],
            [
             0.3333333333333333,
             "#9c179e"
            ],
            [
             0.4444444444444444,
             "#bd3786"
            ],
            [
             0.5555555555555556,
             "#d8576b"
            ],
            [
             0.6666666666666666,
             "#ed7953"
            ],
            [
             0.7777777777777778,
             "#fb9f3a"
            ],
            [
             0.8888888888888888,
             "#fdca26"
            ],
            [
             1,
             "#f0f921"
            ]
           ]
          },
          "colorway": [
           "#636efa",
           "#EF553B",
           "#00cc96",
           "#ab63fa",
           "#FFA15A",
           "#19d3f3",
           "#FF6692",
           "#B6E880",
           "#FF97FF",
           "#FECB52"
          ],
          "font": {
           "color": "#2a3f5f"
          },
          "geo": {
           "bgcolor": "white",
           "lakecolor": "white",
           "landcolor": "#E5ECF6",
           "showlakes": true,
           "showland": true,
           "subunitcolor": "white"
          },
          "hoverlabel": {
           "align": "left"
          },
          "hovermode": "closest",
          "mapbox": {
           "style": "light"
          },
          "paper_bgcolor": "white",
          "plot_bgcolor": "#E5ECF6",
          "polar": {
           "angularaxis": {
            "gridcolor": "white",
            "linecolor": "white",
            "ticks": ""
           },
           "bgcolor": "#E5ECF6",
           "radialaxis": {
            "gridcolor": "white",
            "linecolor": "white",
            "ticks": ""
           }
          },
          "scene": {
           "xaxis": {
            "backgroundcolor": "#E5ECF6",
            "gridcolor": "white",
            "gridwidth": 2,
            "linecolor": "white",
            "showbackground": true,
            "ticks": "",
            "zerolinecolor": "white"
           },
           "yaxis": {
            "backgroundcolor": "#E5ECF6",
            "gridcolor": "white",
            "gridwidth": 2,
            "linecolor": "white",
            "showbackground": true,
            "ticks": "",
            "zerolinecolor": "white"
           },
           "zaxis": {
            "backgroundcolor": "#E5ECF6",
            "gridcolor": "white",
            "gridwidth": 2,
            "linecolor": "white",
            "showbackground": true,
            "ticks": "",
            "zerolinecolor": "white"
           }
          },
          "shapedefaults": {
           "line": {
            "color": "#2a3f5f"
           }
          },
          "ternary": {
           "aaxis": {
            "gridcolor": "white",
            "linecolor": "white",
            "ticks": ""
           },
           "baxis": {
            "gridcolor": "white",
            "linecolor": "white",
            "ticks": ""
           },
           "bgcolor": "#E5ECF6",
           "caxis": {
            "gridcolor": "white",
            "linecolor": "white",
            "ticks": ""
           }
          },
          "title": {
           "x": 0.05
          },
          "xaxis": {
           "automargin": true,
           "gridcolor": "white",
           "linecolor": "white",
           "ticks": "",
           "title": {
            "standoff": 15
           },
           "zerolinecolor": "white",
           "zerolinewidth": 2
          },
          "yaxis": {
           "automargin": true,
           "gridcolor": "white",
           "linecolor": "white",
           "ticks": "",
           "title": {
            "standoff": 15
           },
           "zerolinecolor": "white",
           "zerolinewidth": 2
          }
         }
        },
        "title": {
         "text": "Hyperparameter Importances"
        },
        "xaxis": {
         "title": {
          "text": "Hyperparameter Importance"
         }
        },
        "yaxis": {
         "title": {
          "text": "Hyperparameter"
         }
        }
       }
      }
     },
     "metadata": {},
     "output_type": "display_data"
    }
   ],
   "source": [
    "# Visualizar historial de optimización\n",
    "fig_rf = plot_optimization_history(study_rf)\n",
    "fig_rf.show()\n",
    "\n",
    "# Visualizar importancia de hiperparámetros\n",
    "fig_rf_param = plot_param_importances(study_rf)\n",
    "fig_rf_param.show()\n"
   ]
  },
  {
   "cell_type": "markdown",
   "metadata": {},
   "source": [
    "`Interpretacion`:\n",
    "1. **Historial de Optimización**\n",
    "El modelo de Random Forest ha demostrado un desempeño consistentemente alto en la optimización, logrando en la mayoría de los casos el mejor valor posible. Este rendimiento sugiere que el conjunto de datos utilizado es bien separado o fácilmente clasificable, lo cual podría indicar un buen diseño del dataset o características altamente predictivas.\n",
    "\n",
    "1. **Importancia de los Hiperparámetros**\n",
    "A lo largo de las iteraciones, se han probado diferentes combinaciones de hiperparámetros, incluyendo el número de árboles (n_estimators), la profundidad máxima del árbol (max_depth), y criterios relacionados con el tamaño mínimo de división de nodos. El hecho de que múltiples configuraciones den como resultado el máximo rendimiento sugiere que el modelo tiene cierta robustez a los cambios de configuración, lo cual es positivo para su aplicabilidad en otros contextos.\n",
    "Aunque en algunos casos el rendimiento es ligeramente inferior, como en los valores menores a 1.0, estos resultados están relacionados con configuraciones extremas, como un número muy bajo de árboles o profundidades no óptimas. Esto reafirma la importancia del hiperparametro `n_estimators` con un 88%.\n",
    "\n",
    "En términos prácticos, los resultados indican que las características del dataset permiten la construcción de modelos altamente efectivos. No obstante, sería prudente evaluar la generalización del modelo en un conjunto de pruebas independiente para confirmar que los resultados no están influidos por una alta dependencia de los datos de entrenamiento. Además, evaluar métricas adicionales como la precisión, sensibilidad y especificidad podría proporcionar una visión más integral del comportamiento del modelo."
   ]
  },
  {
   "cell_type": "markdown",
   "metadata": {},
   "source": [
    "## Comparacion de resultados"
   ]
  },
  {
   "cell_type": "code",
   "execution_count": 113,
   "metadata": {},
   "outputs": [
    {
     "name": "stdout",
     "output_type": "stream",
     "text": [
      "Logistic Regression:\n",
      "Best Accuracy: 1.0\n",
      "Best Params: {'C': 30.72141975844997, 'solver': 'liblinear', 'penalty': 'l2', 'max_iter': 450}\n",
      "              precision    recall  f1-score   support\n",
      "\n",
      "           0       1.00      1.00      1.00        77\n",
      "           1       1.00      1.00      1.00        49\n",
      "\n",
      "    accuracy                           1.00       126\n",
      "   macro avg       1.00      1.00      1.00       126\n",
      "weighted avg       1.00      1.00      1.00       126\n",
      "\n"
     ]
    },
    {
     "data": {
      "image/png": "[encoded data removed]",
      "text/plain": [
       "<Figure size 600x400 with 2 Axes>"
      ]
     },
     "metadata": {},
     "output_type": "display_data"
    },
    {
     "name": "stdout",
     "output_type": "stream",
     "text": [
      "Random Forest:\n",
      "Best Accuracy: 1.0\n",
      "Best Params: {'n_estimators': 6, 'max_depth': 10, 'min_samples_split': 3, 'min_samples_leaf': 6, 'bootstrap': False, 'criterion': 'log_loss', 'class_weight': 'balanced'}\n",
      "              precision    recall  f1-score   support\n",
      "\n",
      "           0       1.00      1.00      1.00        77\n",
      "           1       1.00      1.00      1.00        49\n",
      "\n",
      "    accuracy                           1.00       126\n",
      "   macro avg       1.00      1.00      1.00       126\n",
      "weighted avg       1.00      1.00      1.00       126\n",
      "\n"
     ]
    },
    {
     "data": {
      "image/png": "[encoded data removed]",
      "text/plain": [
       "<Figure size 600x400 with 2 Axes>"
      ]
     },
     "metadata": {},
     "output_type": "display_data"
    }
   ],
   "source": [
    "# Matriz de confusión para Regresión Logística\n",
    "from sklearn.metrics import confusion_matrix\n",
    "import seaborn as sns\n",
    "import matplotlib.pyplot as plt\n",
    "from sklearn.metrics import classification_report\n",
    "\n",
    "# Entrenar y evaluar el mejor modelo de Regresión Logística\n",
    "best_lr = LogisticRegression(**study_lr.best_params)\n",
    "best_lr.fit(X_train, y_train)\n",
    "lr_preds = best_lr.predict(X_test)\n",
    "lr_accuracy = accuracy_score(y_test, lr_preds)\n",
    "\n",
    "print(\"Logistic Regression:\")\n",
    "print(f\"Best Accuracy: {lr_accuracy}\")\n",
    "print(\"Best Params:\", study_lr.best_params)\n",
    "print(classification_report(y_test, lr_preds))\n",
    "\n",
    "\n",
    "cm_lr = confusion_matrix(y_test, lr_preds)\n",
    "plt.figure(figsize=(6,4))\n",
    "sns.heatmap(cm_lr, annot=True, fmt='d', cmap='Blues')\n",
    "plt.title('Confusion Matrix for Logistic Regression')\n",
    "plt.xlabel('Accuracy')\n",
    "plt.ylabel('Actual')\n",
    "plt.show()\n",
    "\n",
    "# Train and evaluate the best Random Forest model\n",
    "best_rf = RandomForestClassifier(**study_rf.best_params)\n",
    "best_rf.fit(X_train, y_train)\n",
    "rf_preds = best_rf.predict(X_test)\n",
    "rf_accuracy = accuracy_score(y_test, rf_preds)\n",
    "\n",
    "print(\"Random Forest:\")\n",
    "print(f\"Best Accuracy: {rf_accuracy}\")\n",
    "print(\"Best Params:\", study_rf.best_params)\n",
    "print(classification_report(y_test, rf_preds))\n",
    "\n",
    "# Matriz de confusión para Bosque Aleatorio\n",
    "cm_rf = confusion_matrix(y_test, rf_preds)\n",
    "plt.figure(figsize=(6,4))\n",
    "sns.heatmap(cm_rf, annot=True, fmt='d', cmap='Greens')\n",
    "plt.title('Confusion Matrix - Random Forest')\n",
    "plt.xlabel('Accuracy')\n",
    "plt.ylabel('Actual')\n",
    "plt.show()"
   ]
  },
  {
   "cell_type": "markdown",
   "metadata": {},
   "source": [
    "`Interpretacion`:\n",
    "Como podemos observar tanto con las metricas de recall, precision y f1-score, ambos modelos obtienen altos valores indicando que son buenos modelos para clasificar los datos. Por lo que para la seleccion del modelo a utilizar se debe de considerar otros factores como el costo computacional."
   ]
  },
  {
   "cell_type": "markdown",
   "metadata": {},
   "source": [
    "## Model Selection"
   ]
  },
  {
   "cell_type": "code",
   "execution_count": 114,
   "metadata": {},
   "outputs": [
    {
     "name": "stdout",
     "output_type": "stream",
     "text": [
      "              precision    recall  f1-score   support\n",
      "\n",
      "           0       1.00      1.00      1.00        77\n",
      "           1       1.00      1.00      1.00        49\n",
      "\n",
      "    accuracy                           1.00       126\n",
      "   macro avg       1.00      1.00      1.00       126\n",
      "weighted avg       1.00      1.00      1.00       126\n",
      "\n"
     ]
    }
   ],
   "source": [
    "# Select the model with less computational cost (logistic regresion)\n",
    "best_model = best_lr\n",
    "# Retrain the best model on the entire dataset\n",
    "best_model.fit(X, y)\n",
    "\n",
    "# Evaluate the model \n",
    "preds = best_model.predict(X_test)\n",
    "accuracy = accuracy_score(y_test, preds)\n",
    "# classification report\n",
    "print(classification_report(y_test, preds))"
   ]
  },
  {
   "cell_type": "markdown",
   "metadata": {},
   "source": [
    "`Interpretacion:`\n",
    "Debido a que ambos modelos obtuvieron 100% de precision tras la optimizacion de hiperparametros, el criterio de eleccion sera en base al costo computacional de estos, ya que tendra que ser desplegado. Por lo que se selecciono `Logistic Regression`, ya que es un modelo lineal con una complejidad significativamente menor tanto en el entrenamiento como en la predicción. Mientras que `Logistic Regression` optimiza coeficientes en un espacio convex, `Random Forest` requiere construir y evaluar múltiples árboles de decisión, lo que implica mayor uso de memoria y tiempo de cómputo, especialmente con datos grandes. Dado que ambos modelos obtienen un 100% de precisión en este caso, optar por Logistic Regression es más práctico y escalable, al ofrecer el mismo desempeño con un menor costo computacional."
   ]
  },
  {
   "cell_type": "markdown",
   "metadata": {},
   "source": [
    "## Export the Model"
   ]
  },
  {
   "cell_type": "code",
   "execution_count": 115,
   "metadata": {},
   "outputs": [
    {
     "data": {
      "text/plain": [
       "['best_model.pkl']"
      ]
     },
     "execution_count": 115,
     "metadata": {},
     "output_type": "execute_result"
    }
   ],
   "source": [
    "# save model\n",
    "import joblib\n",
    "joblib.dump(best_model, 'best_model.pkl')"
   ]
  }
 ],
 "metadata": {
  "kernelspec": {
   "display_name": "complex",
   "language": "python",
   "name": "python3"
  },
  "language_info": {
   "codemirror_mode": {
    "name": "ipython",
    "version": 3
   },
   "file_extension": ".py",
   "mimetype": "text/x-python",
   "name": "python",
   "nbconvert_exporter": "python",
   "pygments_lexer": "ipython3",
   "version": "3.8.19"
  }
 },
 "nbformat": 4,
 "nbformat_minor": 2
}
